{
  "nbformat": 4,
  "nbformat_minor": 0,
  "metadata": {
    "colab": {
      "provenance": [],
      "authorship_tag": "ABX9TyP4GUvJKa/6iUjPnbuS2YxE",
      "include_colab_link": true
    },
    "kernelspec": {
      "name": "python3",
      "display_name": "Python 3"
    },
    "language_info": {
      "name": "python"
    }
  },
  "cells": [
    {
      "cell_type": "markdown",
      "metadata": {
        "id": "view-in-github",
        "colab_type": "text"
      },
      "source": [
        "<a href=\"https://colab.research.google.com/github/Damjanv1/Sideprojects/blob/main/Euroleague_chant_bot.ipynb\" target=\"_parent\"><img src=\"https://colab.research.google.com/assets/colab-badge.svg\" alt=\"Open In Colab\"/></a>"
      ]
    },
    {
      "cell_type": "code",
      "execution_count": 4,
      "metadata": {
        "colab": {
          "base_uri": "https://localhost:8080/"
        },
        "id": "SYkhmt8_8FNU",
        "outputId": "e4ac9865-a141-4cf2-8a86-e7508f6120d8"
      },
      "outputs": [
        {
          "name": "stdout",
          "output_type": "stream",
          "text": [
            "Found existing installation: praw 7.8.1\n",
            "Uninstalling praw-7.8.1:\n",
            "  Successfully uninstalled praw-7.8.1\n",
            "Found existing installation: prawcore 2.4.0\n",
            "Uninstalling prawcore-2.4.0:\n",
            "  Successfully uninstalled prawcore-2.4.0\n",
            "Collecting praw\n",
            "  Using cached praw-7.8.1-py3-none-any.whl.metadata (9.4 kB)\n",
            "Collecting prawcore<3,>=2.4 (from praw)\n",
            "  Using cached prawcore-2.4.0-py3-none-any.whl.metadata (5.0 kB)\n",
            "Requirement already satisfied: update_checker>=0.18 in /usr/local/lib/python3.10/dist-packages (from praw) (0.18.0)\n",
            "Requirement already satisfied: websocket-client>=0.54.0 in /usr/local/lib/python3.10/dist-packages (from praw) (1.8.0)\n",
            "Requirement already satisfied: requests<3.0,>=2.6.0 in /usr/local/lib/python3.10/dist-packages (from prawcore<3,>=2.4->praw) (2.32.3)\n",
            "Requirement already satisfied: charset-normalizer<4,>=2 in /usr/local/lib/python3.10/dist-packages (from requests<3.0,>=2.6.0->prawcore<3,>=2.4->praw) (3.4.0)\n",
            "Requirement already satisfied: idna<4,>=2.5 in /usr/local/lib/python3.10/dist-packages (from requests<3.0,>=2.6.0->prawcore<3,>=2.4->praw) (3.10)\n",
            "Requirement already satisfied: urllib3<3,>=1.21.1 in /usr/local/lib/python3.10/dist-packages (from requests<3.0,>=2.6.0->prawcore<3,>=2.4->praw) (2.2.3)\n",
            "Requirement already satisfied: certifi>=2017.4.17 in /usr/local/lib/python3.10/dist-packages (from requests<3.0,>=2.6.0->prawcore<3,>=2.4->praw) (2024.8.30)\n",
            "Using cached praw-7.8.1-py3-none-any.whl (189 kB)\n",
            "Using cached prawcore-2.4.0-py3-none-any.whl (17 kB)\n",
            "Installing collected packages: prawcore, praw\n",
            "Successfully installed praw-7.8.1 prawcore-2.4.0\n",
            "Python version: 3.10.12 (main, Nov  6 2024, 20:22:13) [GCC 11.4.0]\n",
            "PRAW version: 7.8.1\n",
            "Reddit Password: ··········\n"
          ]
        },
        {
          "output_type": "stream",
          "name": "stderr",
          "text": [
            "WARNING:praw:It appears that you are using PRAW in an asynchronous environment.\n",
            "It is strongly recommended to use Async PRAW: https://asyncpraw.readthedocs.io.\n",
            "See https://praw.readthedocs.io/en/latest/getting_started/multiple_instances.html#discord-bots-and-asynchronous-environments for more info.\n",
            "\n"
          ]
        },
        {
          "output_type": "stream",
          "name": "stdout",
          "text": [
            "Attempting to authenticate...\n",
            "Successfully logged in as: Euroleaguechantsbot\n",
            "Attempting to access r/Euroleague...\n",
            "Successfully accessed subreddit: Euroleague\n"
          ]
        }
      ],
      "source": [
        "# First remove existing PRAW installation\n",
        "!pip uninstall -y praw prawcore\n",
        "# Install latest version\n",
        "!pip install --upgrade praw\n",
        "\n",
        "import praw\n",
        "from getpass import getpass\n",
        "import sys\n",
        "print(f\"Python version: {sys.version}\")\n",
        "print(f\"PRAW version: {praw.__version__}\")\n",
        "\n",
        "try:\n",
        "    reddit = praw.Reddit(\n",
        "        client_id=\"FExpDe13al_W6thva_RTqA\",\n",
        "        client_secret=\"cmwqMmrQom1V9tqeoVyOejRIijeijQ\",\n",
        "        user_agent=\"Script by u/Euroleaguechantsbot\",\n",
        "        username=\"Euroleaguechantsbot\",  # Directly using username for testing\n",
        "        password=getpass(\"Reddit Password: \")  # Still keeping password secure\n",
        "    )\n",
        "\n",
        "    # Test authentication\n",
        "    print(\"Attempting to authenticate...\")\n",
        "    me = reddit.user.me()\n",
        "    print(f\"Successfully logged in as: {me}\")\n",
        "\n",
        "    # Try to access subreddit as a test\n",
        "    print(\"Attempting to access r/Euroleague...\")\n",
        "    subreddit = reddit.subreddit(\"Euroleague\")\n",
        "    print(f\"Successfully accessed subreddit: {subreddit.display_name}\")\n",
        "\n",
        "except Exception as e:\n",
        "    print(\"\\nError occurred:\")\n",
        "    print(f\"Error type: {type(e)}\")\n",
        "    print(f\"Error details: {str(e)}\")"
      ]
    },
    {
      "cell_type": "code",
      "source": [
        "import praw\n",
        "import random\n",
        "import time\n",
        "from datetime import datetime, timedelta\n",
        "\n",
        "# Partizan chants remain the same as before\n",
        "PARTIZAN_CHANTS = [\n",
        "    (\n",
        "        \"\"\"Da volim crno-bele\n",
        "ponosno kažem svima\n",
        "volim to slavno ime i\n",
        "divim se samo njima\n",
        "Na svetu ništa veće\n",
        "ne može da postoji\n",
        "nego što je naša ljubav\n",
        "prema crno-beloj boji\n",
        "Ljubav prema klubu\n",
        "ne može da prestane\n",
        "dok živim klicaću njemu\n",
        "volim te Partizane!!\"\"\",\n",
        "        \"\"\"That I love black-n-whites\n",
        "I proudly say it to everyone\n",
        "I love that famous name\n",
        "and I only admire them.\n",
        "In the world,\n",
        "nothing bigger can exist,\n",
        "Than our love\n",
        "for black and white colour.\n",
        "Love for the club\n",
        "Can not ever stop,\n",
        "While I am alive\n",
        "I will shout to him:\n",
        "\"I Love you, Partizan\\\"\"\"\"\n",
        "    ),\n",
        "    (\n",
        "        \"\"\"Ti si ponos Beograda,\n",
        "Ti si ponos zemlje moje\n",
        "Ti si ponos Srbije,\n",
        "Crno-beliii!\"\"\",\n",
        "        \"\"\"You are the pride of Belgrade,\n",
        "You are the pride of my country!\n",
        "You are the pride of Serbia,\n",
        "Black-n-Whites!\"\"\"\n",
        "    ),\n",
        "    (\n",
        "        \"\"\"Partizane jedini,\n",
        "Mi za tebe zivimo,\n",
        "Samo tebe volimo,\n",
        "I tebi se divimo,\n",
        "a kad dodju nevolje,\n",
        "I kad dodje tuga,\n",
        "Uvek ce te voleti,\n",
        "GROBARI SA JUGA!!!\n",
        "Volim Partizan!\"\"\",\n",
        "        \"\"\"Partizan one-and-only\n",
        "We live for you,\n",
        "We only love you\n",
        "And we admire you.\n",
        "When the troubles come\n",
        "and when the sorrow comes\n",
        "Always will love you,\n",
        "Grobari from the SOUTH!\n",
        "I love Partizan!\"\"\"\n",
        "    )\n",
        "]\n",
        "\n",
        "def create_reddit_instance():\n",
        "    return praw.Reddit(\n",
        "        client_id=\"FExpDe13al_W6thva_RTqA\",\n",
        "        client_secret=\"cmwqMmrQom1V9tqeoVyOejRIijeijQ\",\n",
        "        user_agent=\"Script by u/Euroleaguechantsbot\",\n",
        "        username=\"Euroleaguechantsbot\",\n",
        "        password=input(\"Enter bot password: \")\n",
        "    )\n",
        "\n",
        "def did_partizan_win(title, text):\n",
        "    \"\"\"Check if Partizan won by parsing the score from the markdown table.\"\"\"\n",
        "    if \"Partizan\" not in title:\n",
        "        print(\"Not a Partizan game\")\n",
        "        return False\n",
        "\n",
        "    lines = text.split('\\n')\n",
        "    partizan_score = None\n",
        "    opponent_score = None\n",
        "\n",
        "    try:\n",
        "        # Find the table that contains scores\n",
        "        for i, line in enumerate(lines):\n",
        "            if \"|TEAM|SCORE|\" in line:\n",
        "                print(\"Found score table\")\n",
        "                # Skip the separator line (|:-|:-:|)\n",
        "                score_lines = lines[i+2:i+4]  # Get the next two lines after the header\n",
        "\n",
        "                for line in score_lines:\n",
        "                    if not line.strip() or '|-' in line:  # Skip empty lines or separator lines\n",
        "                        continue\n",
        "\n",
        "                    parts = line.split('|')\n",
        "                    if len(parts) >= 3:  # Should be ['', 'TEAM', 'SCORE', '']\n",
        "                        if \"Partizan\" in parts[1]:\n",
        "                            partizan_score = int(parts[2].strip())\n",
        "                            print(f\"Found Partizan score: {partizan_score}\")\n",
        "                        else:\n",
        "                            try:\n",
        "                                opponent_score = int(parts[2].strip())\n",
        "                                print(f\"Found opponent score: {opponent_score}\")\n",
        "                            except ValueError:\n",
        "                                continue\n",
        "\n",
        "        if partizan_score is not None and opponent_score is not None:\n",
        "            print(f\"Final scores - Partizan: {partizan_score}, Opponent: {opponent_score}\")\n",
        "            return partizan_score > opponent_score\n",
        "\n",
        "    except Exception as e:\n",
        "        print(f\"Error parsing scores: {e}\")\n",
        "\n",
        "    print(\"Could not find scores\")\n",
        "    return False\n",
        "\n",
        "def format_chant(chant):\n",
        "    serbian, english = chant\n",
        "    return f\"\"\"# Grobari Victory Chant 🖤⚪\n",
        "\n",
        "## Original (Serbian):\n",
        "{serbian}\n",
        "\n",
        "## English Translation:\n",
        "{english}\n",
        "\n",
        "---\n",
        "^(I am a bot that celebrates your favourite Euroleague team victories with their chants! | 🤖)\"\"\"\n",
        "\n",
        "def check_historical_posts(reddit, days_back=2):\n",
        "    \"\"\"Check posts from the last 2 days for Partizan victories.\"\"\"\n",
        "    subreddit = reddit.subreddit(\"Euroleague\")\n",
        "    cutoff_time = int((datetime.utcnow() - timedelta(days=days_back)).timestamp())\n",
        "\n",
        "    print(f\"\\nChecking posts from the last {days_back} days...\")\n",
        "\n",
        "    for submission in subreddit.new(limit=50):\n",
        "        try:\n",
        "            if submission.created_utc < cutoff_time:\n",
        "                break\n",
        "\n",
        "            if \"POST MATCH THREAD\" in submission.title.upper():\n",
        "                print(f\"\\nFound historical match thread: {submission.title}\")\n",
        "                print(f\"Post content:\\n{submission.selftext[:500]}...\")\n",
        "\n",
        "                already_commented = any(comment.author == reddit.user.me()\n",
        "                                     for comment in submission.comments)\n",
        "\n",
        "                if not already_commented and did_partizan_win(submission.title, submission.selftext):\n",
        "                    print(\"Found historical Partizan victory! Posting chant...\")\n",
        "                    chant = random.choice(PARTIZAN_CHANTS)\n",
        "                    comment = format_chant(chant)\n",
        "                    submission.reply(comment)\n",
        "                    print(\"Successfully posted chant!\")\n",
        "                    time.sleep(5)\n",
        "        except Exception as e:\n",
        "            print(f\"Error processing post: {e}\")\n",
        "            continue\n",
        "\n",
        "def run_bot():\n",
        "    print(\"Starting bot...\")\n",
        "    reddit = create_reddit_instance()\n",
        "    subreddit = reddit.subreddit(\"Euroleague\")\n",
        "\n",
        "    print(f\"Successfully logged in as: {reddit.user.me()}\")\n",
        "\n",
        "    # First check historical posts\n",
        "    check_historical_posts(reddit, days_back=2)\n",
        "\n",
        "    print(\"\\nNow monitoring for new posts...\")\n",
        "    already_processed = set()\n",
        "\n",
        "    while True:\n",
        "        try:\n",
        "            for submission in subreddit.new(limit=10):\n",
        "                if submission.id in already_processed:\n",
        "                    continue\n",
        "\n",
        "                if \"POST MATCH THREAD\" in submission.title.upper():\n",
        "                    print(f\"\\nFound new match thread: {submission.title}\")\n",
        "\n",
        "                    already_commented = any(comment.author == reddit.user.me()\n",
        "                                         for comment in submission.comments)\n",
        "\n",
        "                    if not already_commented and did_partizan_win(submission.title, submission.selftext):\n",
        "                        print(\"Partizan won! Posting chant...\")\n",
        "                        chant = random.choice(PARTIZAN_CHANTS)\n",
        "                        comment = format_chant(chant)\n",
        "                        submission.reply(comment)\n",
        "                        print(\"Successfully posted chant!\")\n",
        "\n",
        "                    already_processed.add(submission.id)\n",
        "\n",
        "            print(\".\", end=\"\", flush=True)\n",
        "            time.sleep(60)\n",
        "\n",
        "        except Exception as e:\n",
        "            print(f\"\\nError occurred: {e}\")\n",
        "            print(\"Waiting 5 minutes before retrying...\")\n",
        "            time.sleep(300)\n",
        "\n",
        "if __name__ == \"__main__\":\n",
        "    run_bot()"
      ],
      "metadata": {
        "colab": {
          "base_uri": "https://localhost:8080/",
          "height": 1000
        },
        "id": "_wMtU-i2Ihd7",
        "outputId": "a5d0b999-ed9c-4319-9926-8653429b2db5"
      },
      "execution_count": 11,
      "outputs": [
        {
          "metadata": {
            "tags": null
          },
          "name": "stdout",
          "output_type": "stream",
          "text": [
            "Starting bot...\n"
          ]
        },
        {
          "metadata": {
            "tags": null
          },
          "name": "stderr",
          "output_type": "stream",
          "text": [
            "WARNING:praw:It appears that you are using PRAW in an asynchronous environment.\n",
            "It is strongly recommended to use Async PRAW: https://asyncpraw.readthedocs.io.\n",
            "See https://praw.readthedocs.io/en/latest/getting_started/multiple_instances.html#discord-bots-and-asynchronous-environments for more info.\n",
            "\n",
            "WARNING:praw:It appears that you are using PRAW in an asynchronous environment.\n",
            "It is strongly recommended to use Async PRAW: https://asyncpraw.readthedocs.io.\n",
            "See https://praw.readthedocs.io/en/latest/getting_started/multiple_instances.html#discord-bots-and-asynchronous-environments for more info.\n",
            "\n"
          ]
        },
        {
          "metadata": {
            "tags": null
          },
          "name": "stdout",
          "output_type": "stream",
          "text": [
            "Successfully logged in as: Euroleaguechantsbot\n",
            "\n",
            "Checking posts from the last 2 days...\n"
          ]
        },
        {
          "metadata": {
            "tags": null
          },
          "name": "stderr",
          "output_type": "stream",
          "text": [
            "WARNING:praw:It appears that you are using PRAW in an asynchronous environment.\n",
            "It is strongly recommended to use Async PRAW: https://asyncpraw.readthedocs.io.\n",
            "See https://praw.readthedocs.io/en/latest/getting_started/multiple_instances.html#discord-bots-and-asynchronous-environments for more info.\n",
            "\n"
          ]
        },
        {
          "metadata": {
            "tags": null
          },
          "name": "stdout",
          "output_type": "stream",
          "text": [
            "\n",
            "Found historical match thread: POST MATCH THREAD: Virtus Bologna - Alba Berlin [EuroLeague Regular Season, Round 13]\n",
            "Post content:\n",
            "**Event Date:** December 04, 2024 20:45 CET\n",
            "\n",
            "\n",
            "**Stadium:** VIRTUS SEGAFREDO ARENA\n",
            "\n",
            "\n",
            "**Attendance:** 6104\n",
            "\n",
            "\n",
            "**Referees:** HORDOV, TOMISLAV ; VILIUS, GYTIS; BALAK, AMIT\n",
            "\n",
            "----\n",
            "\n",
            "|TEAM|SCORE|\n",
            "|:-|:-:|\n",
            "|[Virtus Bologna](https://www.euroleaguebasketball.net/euroleague/teams/virtus-segafredo-bologna/vir/?season=2023-24)|88|\n",
            "|[Alba Berlin](https://www.euroleaguebasketball.net/euroleague/teams/alba-berlin/ber/?season=2023-24)|90|\n",
            "\n",
            "----\n",
            "\n",
            "|TEAM|1|2|3|4|OT 1|\n",
            "|:-|:-:|:-:|:-:|:-:|:-:|\n",
            "|[Virtus Bologna](https:...\n"
          ]
        },
        {
          "metadata": {
            "tags": null
          },
          "name": "stderr",
          "output_type": "stream",
          "text": [
            "WARNING:praw:It appears that you are using PRAW in an asynchronous environment.\n",
            "It is strongly recommended to use Async PRAW: https://asyncpraw.readthedocs.io.\n",
            "See https://praw.readthedocs.io/en/latest/getting_started/multiple_instances.html#discord-bots-and-asynchronous-environments for more info.\n",
            "\n"
          ]
        },
        {
          "metadata": {
            "tags": null
          },
          "name": "stdout",
          "output_type": "stream",
          "text": [
            "Not a Partizan game\n",
            "\n",
            "Found historical match thread: POST MATCH THREAD: Valencia - Hapoel Jerusalem [EuroCup Regular Season, Round 10]\n",
            "Post content:\n",
            "**Event Date:** December 04, 2024 20:45 CET\n",
            "\n",
            "\n",
            "**Stadium:** PABELLON FUENTE DE SAN LUIS\n",
            "\n",
            "\n",
            "**Attendance:** 5912\n",
            "\n",
            "\n",
            "**Referees:** TRAWICKI, TOMASZ; MAJKIC, MARIO ; CALIC, STEFAN\n",
            "\n",
            "----\n",
            "\n",
            "|TEAM|SCORE|\n",
            "|:-|:-:|\n",
            "|[Valencia](https://www.euroleaguebasketball.net/eurocup/teams/valencia-basket/pam/?season=2023-24)|96|\n",
            "|[Hapoel Jerusalem](https://www.euroleaguebasketball.net/eurocup/teams/hapoel-bank-yahav-jerusalem/jer/?season=2023-24)|83|\n",
            "\n",
            "----\n",
            "\n",
            "|TEAM|1|2|3|4|\n",
            "|:-|:-:|:-:|:-:|:-:|\n",
            "|[Valencia](https://www.eu...\n"
          ]
        },
        {
          "metadata": {
            "tags": null
          },
          "name": "stderr",
          "output_type": "stream",
          "text": [
            "WARNING:praw:It appears that you are using PRAW in an asynchronous environment.\n",
            "It is strongly recommended to use Async PRAW: https://asyncpraw.readthedocs.io.\n",
            "See https://praw.readthedocs.io/en/latest/getting_started/multiple_instances.html#discord-bots-and-asynchronous-environments for more info.\n",
            "\n"
          ]
        },
        {
          "metadata": {
            "tags": null
          },
          "name": "stdout",
          "output_type": "stream",
          "text": [
            "Not a Partizan game\n",
            "\n",
            "Found historical match thread: POST MATCH THREAD: Olimpia Milano - Crvena Zvezda [EuroLeague Regular Season, Round 13]\n",
            "Post content:\n",
            "**Event Date:** December 04, 2024 20:30 CET\n",
            "\n",
            "\n",
            "**Stadium:** UNIPOL FORUM\n",
            "\n",
            "\n",
            "**Attendance:** 7792\n",
            "\n",
            "\n",
            "**Referees:** PERUGA, CARLOS; LATISEVS, OLEGS; KONSTANTINOVS, KRISTAPS\n",
            "\n",
            "----\n",
            "\n",
            "|TEAM|SCORE|\n",
            "|:-|:-:|\n",
            "|[Olimpia Milano](https://www.euroleaguebasketball.net/euroleague/teams/ea7-emporio-armani-milan/mil/?season=2023-24)|101|\n",
            "|[Crvena Zvezda](https://www.euroleaguebasketball.net/euroleague/teams/crvena-zvezda-meridianbet-belgrade/red/?season=2023-24)|86|\n",
            "\n",
            "----\n",
            "\n",
            "|TEAM|1|2|3|4|\n",
            "|:-|:-:|:-:|:-:|:-:|\n",
            "|[Olim...\n"
          ]
        },
        {
          "metadata": {
            "tags": null
          },
          "name": "stderr",
          "output_type": "stream",
          "text": [
            "WARNING:praw:It appears that you are using PRAW in an asynchronous environment.\n",
            "It is strongly recommended to use Async PRAW: https://asyncpraw.readthedocs.io.\n",
            "See https://praw.readthedocs.io/en/latest/getting_started/multiple_instances.html#discord-bots-and-asynchronous-environments for more info.\n",
            "\n"
          ]
        },
        {
          "metadata": {
            "tags": null
          },
          "name": "stdout",
          "output_type": "stream",
          "text": [
            "Not a Partizan game\n",
            "\n",
            "Found historical match thread: POST MATCH THREAD: JL Bourg - Hamburg Towers [EuroCup Regular Season, Round 10]\n",
            "Post content:\n",
            "**Event Date:** December 04, 2024 19:30 CET\n",
            "\n",
            "\n",
            "**Stadium:** EKINOX\n",
            "\n",
            "\n",
            "**Attendance:** 3500\n",
            "\n",
            "\n",
            "**Referees:** RYZHYK, BORYS; FOUFIS, IOANNIS; PITSILKAS, VASSILIS\n",
            "\n",
            "----\n",
            "\n",
            "|TEAM|SCORE|\n",
            "|:-|:-:|\n",
            "|[JL Bourg](https://www.euroleaguebasketball.net/eurocup/teams/cosea-jl-bourg-en-bresse/bou/?season=2023-24)|93|\n",
            "|[Hamburg Towers](https://www.euroleaguebasketball.net/eurocup/teams/veolia-towers-hamburg/ham/?season=2023-24)|82|\n",
            "\n",
            "----\n",
            "\n",
            "|TEAM|1|2|3|4|\n",
            "|:-|:-:|:-:|:-:|:-:|\n",
            "|[JL Bourg](https://www.euroleaguebasketba...\n"
          ]
        },
        {
          "metadata": {
            "tags": null
          },
          "name": "stderr",
          "output_type": "stream",
          "text": [
            "WARNING:praw:It appears that you are using PRAW in an asynchronous environment.\n",
            "It is strongly recommended to use Async PRAW: https://asyncpraw.readthedocs.io.\n",
            "See https://praw.readthedocs.io/en/latest/getting_started/multiple_instances.html#discord-bots-and-asynchronous-environments for more info.\n",
            "\n"
          ]
        },
        {
          "metadata": {
            "tags": null
          },
          "name": "stdout",
          "output_type": "stream",
          "text": [
            "Not a Partizan game\n",
            "\n",
            "Found historical match thread: POST MATCH THREAD: Buducnost - Besiktas [EuroCup Regular Season, Round 10]\n",
            "Post content:\n",
            "**Event Date:** December 04, 2024 19:00 CET\n",
            "\n",
            "\n",
            "**Stadium:** MORACA\n",
            "\n",
            "\n",
            "**Attendance:** 2130\n",
            "\n",
            "\n",
            "**Referees:** BAENA, ALBERTO; VAN DEN BROECK, NICK; HADZIC, DENIS\n",
            "\n",
            "----\n",
            "\n",
            "|TEAM|SCORE|\n",
            "|:-|:-:|\n",
            "|[Buducnost](https://www.euroleaguebasketball.net/eurocup/teams/buducnost-voli-podgorica/bud/?season=2023-24)|88|\n",
            "|[Besiktas](https://www.euroleaguebasketball.net/eurocup/teams/besiktas-fibabanka-istanbul/bes/?season=2023-24)|90|\n",
            "\n",
            "----\n",
            "\n",
            "|TEAM|1|2|3|4|\n",
            "|:-|:-:|:-:|:-:|:-:|\n",
            "|[Buducnost](https://www.euroleaguebasket...\n"
          ]
        },
        {
          "metadata": {
            "tags": null
          },
          "name": "stderr",
          "output_type": "stream",
          "text": [
            "WARNING:praw:It appears that you are using PRAW in an asynchronous environment.\n",
            "It is strongly recommended to use Async PRAW: https://asyncpraw.readthedocs.io.\n",
            "See https://praw.readthedocs.io/en/latest/getting_started/multiple_instances.html#discord-bots-and-asynchronous-environments for more info.\n",
            "\n"
          ]
        },
        {
          "metadata": {
            "tags": null
          },
          "name": "stdout",
          "output_type": "stream",
          "text": [
            "Not a Partizan game\n",
            "\n",
            "Found historical match thread: POST MATCH THREAD: Aris BC - Reyer Venezia [EuroCup Regular Season, Round 10]\n",
            "Post content:\n",
            "**Event Date:** December 04, 2024 19:00 CET\n",
            "\n",
            "\n",
            "**Stadium:** PALAIS DE SPORTS\n",
            "\n",
            "\n",
            "**Attendance:** 1474\n",
            "\n",
            "\n",
            "**Referees:** NIKOLIC, UROS; SUKYS, ARTURAS; BITTNER, STEVE\n",
            "\n",
            "----\n",
            "\n",
            "|TEAM|SCORE|\n",
            "|:-|:-:|\n",
            "|[Aris BC](https://www.euroleaguebasketball.net/eurocup/teams/aris-midea-thessaloniki/ari/?season=2023-24)|74|\n",
            "|[Reyer Venezia](https://www.euroleaguebasketball.net/eurocup/teams/umana-reyer-venice/vnc/?season=2023-24)|81|\n",
            "\n",
            "----\n",
            "\n",
            "|TEAM|1|2|3|4|\n",
            "|:-|:-:|:-:|:-:|:-:|\n",
            "|[Aris BC](https://www.euroleaguebasketball....\n"
          ]
        },
        {
          "metadata": {
            "tags": null
          },
          "name": "stderr",
          "output_type": "stream",
          "text": [
            "WARNING:praw:It appears that you are using PRAW in an asynchronous environment.\n",
            "It is strongly recommended to use Async PRAW: https://asyncpraw.readthedocs.io.\n",
            "See https://praw.readthedocs.io/en/latest/getting_started/multiple_instances.html#discord-bots-and-asynchronous-environments for more info.\n",
            "\n"
          ]
        },
        {
          "metadata": {
            "tags": null
          },
          "name": "stdout",
          "output_type": "stream",
          "text": [
            "Not a Partizan game\n",
            "\n",
            "Found historical match thread: POST MATCH THREAD: AS Monaco - Olympiacos [EuroLeague Regular Season, Round 13]\n",
            "Post content:\n",
            "**Event Date:** December 04, 2024 19:00 CET\n",
            "\n",
            "\n",
            "**Stadium:** SALLE GASTON MEDECIN\n",
            "\n",
            "\n",
            "**Attendance:** 2983\n",
            "\n",
            "\n",
            "**Referees:** PUKL,SASA; ZAMOJSKI, JAKUB; RACYS, SAULIUS\n",
            "\n",
            "----\n",
            "\n",
            "|TEAM|SCORE|\n",
            "|:-|:-:|\n",
            "|[AS Monaco](https://www.euroleaguebasketball.net/euroleague/teams/as-monaco/mco/?season=2023-24)|80|\n",
            "|[Olympiacos](https://www.euroleaguebasketball.net/euroleague/teams/olympiacos-piraeus/oly/?season=2023-24)|89|\n",
            "\n",
            "----\n",
            "\n",
            "|TEAM|1|2|3|4|\n",
            "|:-|:-:|:-:|:-:|:-:|\n",
            "|[AS Monaco](https://www.euroleaguebasketball.net/eu...\n"
          ]
        },
        {
          "metadata": {
            "tags": null
          },
          "name": "stderr",
          "output_type": "stream",
          "text": [
            "WARNING:praw:It appears that you are using PRAW in an asynchronous environment.\n",
            "It is strongly recommended to use Async PRAW: https://asyncpraw.readthedocs.io.\n",
            "See https://praw.readthedocs.io/en/latest/getting_started/multiple_instances.html#discord-bots-and-asynchronous-environments for more info.\n",
            "\n"
          ]
        },
        {
          "metadata": {
            "tags": null
          },
          "name": "stdout",
          "output_type": "stream",
          "text": [
            "Not a Partizan game\n",
            "\n",
            "Found historical match thread: POST MATCH THREAD: Hapoel Tel Aviv - Joventut Badalona [EuroCup Regular Season, Round 10]\n",
            "Post content:\n",
            "**Event Date:** December 04, 2024 18:45 CET\n",
            "\n",
            "\n",
            "**Stadium:** SAMOKOV ARENA\n",
            "\n",
            "\n",
            "**Attendance:** 200\n",
            "\n",
            "\n",
            "**Referees:** PANTHER, ANNE; RADOJKOVIC, JOSIP ; HALLIKO, AARE\n",
            "\n",
            "----\n",
            "\n",
            "|TEAM|SCORE|\n",
            "|:-|:-:|\n",
            "|[Hapoel Tel Aviv](https://www.euroleaguebasketball.net/eurocup/teams/hapoel-shlomo-tel-aviv/hta/?season=2023-24)|95|\n",
            "|[Joventut Badalona](https://www.euroleaguebasketball.net/eurocup/teams/joventut-badalona/jov/?season=2023-24)|70|\n",
            "\n",
            "----\n",
            "\n",
            "|TEAM|1|2|3|4|\n",
            "|:-|:-:|:-:|:-:|:-:|\n",
            "|[Hapoel Tel Aviv](https://www.euro...\n"
          ]
        },
        {
          "metadata": {
            "tags": null
          },
          "name": "stderr",
          "output_type": "stream",
          "text": [
            "WARNING:praw:It appears that you are using PRAW in an asynchronous environment.\n",
            "It is strongly recommended to use Async PRAW: https://asyncpraw.readthedocs.io.\n",
            "See https://praw.readthedocs.io/en/latest/getting_started/multiple_instances.html#discord-bots-and-asynchronous-environments for more info.\n",
            "\n"
          ]
        },
        {
          "metadata": {
            "tags": null
          },
          "name": "stdout",
          "output_type": "stream",
          "text": [
            "Not a Partizan game\n",
            "\n",
            "Found historical match thread: POST MATCH THREAD: Lietkabelis - Turk Telekom [EuroCup Regular Season, Round 10]\n",
            "Post content:\n",
            "**Event Date:** December 04, 2024 18:00 CET\n",
            "\n",
            "\n",
            "**Stadium:** KALNAPILIO ARENA\n",
            "\n",
            "\n",
            "**Attendance:** 1461\n",
            "\n",
            "\n",
            "**Referees:** JURAS, MARKO; TSAROUCHA, VASILIKI; PEER, ADAR\n",
            "\n",
            "----\n",
            "\n",
            "|TEAM|SCORE|\n",
            "|:-|:-:|\n",
            "|[Lietkabelis](https://www.euroleaguebasketball.net/eurocup/teams/7-bet-lietkabelis-panevezys/lkb/?season=2023-24)|93|\n",
            "|[Turk Telekom](https://www.euroleaguebasketball.net/eurocup/teams/turk-telekom-ankara/ttk/?season=2023-24)|98|\n",
            "\n",
            "----\n",
            "\n",
            "|TEAM|1|2|3|4|\n",
            "|:-|:-:|:-:|:-:|:-:|\n",
            "|[Lietkabelis](https://www.euroleagu...\n"
          ]
        },
        {
          "metadata": {
            "tags": null
          },
          "name": "stderr",
          "output_type": "stream",
          "text": [
            "WARNING:praw:It appears that you are using PRAW in an asynchronous environment.\n",
            "It is strongly recommended to use Async PRAW: https://asyncpraw.readthedocs.io.\n",
            "See https://praw.readthedocs.io/en/latest/getting_started/multiple_instances.html#discord-bots-and-asynchronous-environments for more info.\n",
            "\n"
          ]
        },
        {
          "metadata": {
            "tags": null
          },
          "name": "stdout",
          "output_type": "stream",
          "text": [
            "Not a Partizan game\n",
            "\n",
            "Found historical match thread: POST MATCH THREAD: Bahcesehir - BC Wolves [EuroCup Regular Season, Round 10]\n",
            "Post content:\n",
            "**Event Date:** December 04, 2024 17:00 CET\n",
            "\n",
            "\n",
            "**Stadium:** SINAN ERDEM SPORTS HALL\n",
            "\n",
            "\n",
            "**Attendance:** 634\n",
            "\n",
            "\n",
            "**Referees:** CORTES, CARLOS; GIOVANNETTI, GUIDO; THEIS, CHRISTIAN\n",
            "\n",
            "----\n",
            "\n",
            "|TEAM|SCORE|\n",
            "|:-|:-:|\n",
            "|[Bahcesehir](https://www.euroleaguebasketball.net/eurocup/teams/bahcesehir-college-istanbul/bah/?season=2023-24)|84|\n",
            "|[BC Wolves](https://www.euroleaguebasketball.net/eurocup/teams/wolves-twinsbet-vilnius/wol/?season=2023-24)|74|\n",
            "\n",
            "----\n",
            "\n",
            "|TEAM|1|2|3|4|\n",
            "|:-|:-:|:-:|:-:|:-:|\n",
            "|[Bahcesehir](https://w...\n"
          ]
        },
        {
          "metadata": {
            "tags": null
          },
          "name": "stderr",
          "output_type": "stream",
          "text": [
            "WARNING:praw:It appears that you are using PRAW in an asynchronous environment.\n",
            "It is strongly recommended to use Async PRAW: https://asyncpraw.readthedocs.io.\n",
            "See https://praw.readthedocs.io/en/latest/getting_started/multiple_instances.html#discord-bots-and-asynchronous-environments for more info.\n",
            "\n"
          ]
        },
        {
          "metadata": {
            "tags": null
          },
          "name": "stdout",
          "output_type": "stream",
          "text": [
            "Not a Partizan game\n",
            "\n",
            "Found historical match thread: POST MATCH THREAD: Partizan - Zalgiris [EuroLeague Regular Season, Round 13]\n",
            "Post content:\n",
            "**Event Date:** December 03, 2024 20:30 CET\n",
            "\n",
            "\n",
            "**Stadium:** BELGRADE ARENA\n",
            "\n",
            "\n",
            "**Attendance:** 19887\n",
            "\n",
            "\n",
            "**Referees:** RADOVIC, SRETEN; GARCIA, JUAN CARLOS; VYKLICKY, ROBERT\n",
            "\n",
            "----\n",
            "\n",
            "|TEAM|SCORE|\n",
            "|:-|:-:|\n",
            "|[Partizan](https://www.euroleaguebasketball.net/euroleague/teams/partizan-mozzart-bet-belgrade/par/?season=2023-24)|84|\n",
            "|[Zalgiris](https://www.euroleaguebasketball.net/euroleague/teams/zalgiris-kaunas/zal/?season=2023-24)|78|\n",
            "\n",
            "----\n",
            "\n",
            "|TEAM|1|2|3|4|\n",
            "|:-|:-:|:-:|:-:|:-:|\n",
            "|[Partizan](https://www.eurolea...\n"
          ]
        },
        {
          "metadata": {
            "tags": null
          },
          "name": "stderr",
          "output_type": "stream",
          "text": [
            "WARNING:praw:It appears that you are using PRAW in an asynchronous environment.\n",
            "It is strongly recommended to use Async PRAW: https://asyncpraw.readthedocs.io.\n",
            "See https://praw.readthedocs.io/en/latest/getting_started/multiple_instances.html#discord-bots-and-asynchronous-environments for more info.\n",
            "\n"
          ]
        },
        {
          "metadata": {
            "tags": null
          },
          "name": "stdout",
          "output_type": "stream",
          "text": [
            "Found score table\n",
            "Found Partizan score: 84\n",
            "Found opponent score: 78\n",
            "Final scores - Partizan: 84, Opponent: 78\n",
            "Found historical Partizan victory! Posting chant...\n",
            "Successfully posted chant!\n"
          ]
        },
        {
          "metadata": {
            "tags": null
          },
          "name": "stderr",
          "output_type": "stream",
          "text": [
            "WARNING:praw:It appears that you are using PRAW in an asynchronous environment.\n",
            "It is strongly recommended to use Async PRAW: https://asyncpraw.readthedocs.io.\n",
            "See https://praw.readthedocs.io/en/latest/getting_started/multiple_instances.html#discord-bots-and-asynchronous-environments for more info.\n",
            "\n"
          ]
        },
        {
          "metadata": {
            "tags": null
          },
          "name": "stdout",
          "output_type": "stream",
          "text": [
            "\n",
            "Found historical match thread: POST MATCH THREAD: Saski Baskonia - Fenerbahce [EuroLeague Regular Season, Round 13]\n",
            "Post content:\n",
            "**Event Date:** December 03, 2024 20:30 CET\n",
            "\n",
            "\n",
            "**Stadium:** BUESA ARENA\n",
            "\n",
            "\n",
            "**Attendance:** 8412\n",
            "\n",
            "\n",
            "**Referees:** BELOSEVIC, ILIJA; JOVCIC, MILIVOJE; ROSSI, MICHELE\n",
            "\n",
            "----\n",
            "\n",
            "|TEAM|SCORE|\n",
            "|:-|:-:|\n",
            "|[Saski Baskonia](https://www.euroleaguebasketball.net/euroleague/teams/baskonia-vitoria-gasteiz/bas/?season=2023-24)|88|\n",
            "|[Fenerbahce](https://www.euroleaguebasketball.net/euroleague/teams/fenerbahce-beko-istanbul/ulk/?season=2023-24)|76|\n",
            "\n",
            "----\n",
            "\n",
            "|TEAM|1|2|3|4|\n",
            "|:-|:-:|:-:|:-:|:-:|\n",
            "|[Saski Baskonia](https://w...\n"
          ]
        },
        {
          "metadata": {
            "tags": null
          },
          "name": "stderr",
          "output_type": "stream",
          "text": [
            "WARNING:praw:It appears that you are using PRAW in an asynchronous environment.\n",
            "It is strongly recommended to use Async PRAW: https://asyncpraw.readthedocs.io.\n",
            "See https://praw.readthedocs.io/en/latest/getting_started/multiple_instances.html#discord-bots-and-asynchronous-environments for more info.\n",
            "\n"
          ]
        },
        {
          "metadata": {
            "tags": null
          },
          "name": "stdout",
          "output_type": "stream",
          "text": [
            "Not a Partizan game\n",
            "\n",
            "Found historical match thread: POST MATCH THREAD: Panathinaikos - Barcelona [EuroLeague Regular Season, Round 13]\n",
            "Post content:\n",
            "**Event Date:** December 03, 2024 20:15 CET\n",
            "\n",
            "\n",
            "**Stadium:** OAKA Altion\n",
            "\n",
            "\n",
            "**Attendance:** 16780\n",
            "\n",
            "\n",
            "**Referees:** JAVOR, DAMIR; PATERNICO, CARMELO; KARDUM, LUKA\n",
            "\n",
            "----\n",
            "\n",
            "|TEAM|SCORE|\n",
            "|:-|:-:|\n",
            "|[Panathinaikos](https://www.euroleaguebasketball.net/euroleague/teams/panathinaikos-aktor-athens/pan/?season=2023-24)|90|\n",
            "|[Barcelona](https://www.euroleaguebasketball.net/euroleague/teams/fc-barcelona/bar/?season=2023-24)|89|\n",
            "\n",
            "----\n",
            "\n",
            "|TEAM|1|2|3|4|\n",
            "|:-|:-:|:-:|:-:|:-:|\n",
            "|[Panathinaikos](https://www.euroleaguebas...\n"
          ]
        },
        {
          "metadata": {
            "tags": null
          },
          "name": "stderr",
          "output_type": "stream",
          "text": [
            "WARNING:praw:It appears that you are using PRAW in an asynchronous environment.\n",
            "It is strongly recommended to use Async PRAW: https://asyncpraw.readthedocs.io.\n",
            "See https://praw.readthedocs.io/en/latest/getting_started/multiple_instances.html#discord-bots-and-asynchronous-environments for more info.\n",
            "\n"
          ]
        },
        {
          "metadata": {
            "tags": null
          },
          "name": "stdout",
          "output_type": "stream",
          "text": [
            "Not a Partizan game\n",
            "\n",
            "Found historical match thread: POST MATCH THREAD: Aquila Basket Trento - Gran Canaria [EuroCup Regular Season, Round 10]\n",
            "Post content:\n",
            "**Event Date:** December 03, 2024 20:00 CET\n",
            "\n",
            "\n",
            "**Stadium:** IL T QUOTIDIANO ARENA\n",
            "\n",
            "\n",
            "**Attendance:** 2864\n",
            "\n",
            "\n",
            "**Referees:** VILIUS, GYTIS; BALAK, AMIT; CELIK, HUSEYIN\n",
            "\n",
            "----\n",
            "\n",
            "|TEAM|SCORE|\n",
            "|:-|:-:|\n",
            "|[Aquila Basket Trento](https://www.euroleaguebasketball.net/eurocup/teams/dolomiti-energia-trento/trn/?season=2023-24)|70|\n",
            "|[Gran Canaria](https://www.euroleaguebasketball.net/eurocup/teams/dreamland-gran-canaria/can/?season=2023-24)|81|\n",
            "\n",
            "----\n",
            "\n",
            "|TEAM|1|2|3|4|\n",
            "|:-|:-:|:-:|:-:|:-:|\n",
            "|[Aquila Basket Trento](ht...\n"
          ]
        },
        {
          "metadata": {
            "tags": null
          },
          "name": "stderr",
          "output_type": "stream",
          "text": [
            "WARNING:praw:It appears that you are using PRAW in an asynchronous environment.\n",
            "It is strongly recommended to use Async PRAW: https://asyncpraw.readthedocs.io.\n",
            "See https://praw.readthedocs.io/en/latest/getting_started/multiple_instances.html#discord-bots-and-asynchronous-environments for more info.\n",
            "\n"
          ]
        },
        {
          "metadata": {
            "tags": null
          },
          "name": "stdout",
          "output_type": "stream",
          "text": [
            "Not a Partizan game\n",
            "\n",
            "Found historical match thread: POST MATCH THREAD: Maccabi Tel Aviv - Paris Basketball [EuroLeague Regular Season, Round 13]\n",
            "Post content:\n",
            "**Event Date:** December 03, 2024 20:05 CET\n",
            "\n",
            "\n",
            "**Stadium:** ALEKSANDAR NIKOLIC HALL\n",
            "\n",
            "\n",
            "**Attendance:** 220\n",
            "\n",
            "\n",
            "**Referees:** MOGULKOC, EMIN; KOLJENSIC, MILOS ; ATTARD, MANUEL\n",
            "\n",
            "----\n",
            "\n",
            "|TEAM|SCORE|\n",
            "|:-|:-:|\n",
            "|[Maccabi Tel Aviv](https://www.euroleaguebasketball.net/euroleague/teams/maccabi-playtika-tel-aviv/tel/?season=2023-24)|81|\n",
            "|[Paris Basketball](https://www.euroleaguebasketball.net/euroleague/teams/paris-basketball/prs/?season=2023-24)|93|\n",
            "\n",
            "----\n",
            "\n",
            "|TEAM|1|2|3|4|\n",
            "|:-|:-:|:-:|:-:|:-:|\n",
            "|[Maccabi Tel Av...\n"
          ]
        },
        {
          "metadata": {
            "tags": null
          },
          "name": "stderr",
          "output_type": "stream",
          "text": [
            "WARNING:praw:It appears that you are using PRAW in an asynchronous environment.\n",
            "It is strongly recommended to use Async PRAW: https://asyncpraw.readthedocs.io.\n",
            "See https://praw.readthedocs.io/en/latest/getting_started/multiple_instances.html#discord-bots-and-asynchronous-environments for more info.\n",
            "\n"
          ]
        },
        {
          "metadata": {
            "tags": null
          },
          "name": "stdout",
          "output_type": "stream",
          "text": [
            "Not a Partizan game\n",
            "\n",
            "Found historical match thread: POST MATCH THREAD: ASVEL - Real Madrid [EuroLeague Regular Season, Round 13]\n",
            "Post content:\n",
            "**Event Date:** December 03, 2024 20:00 CET\n",
            "\n",
            "\n",
            "**Stadium:** LDLC ARENA\n",
            "\n",
            "\n",
            "**Attendance:** 8995\n",
            "\n",
            "\n",
            "**Referees:** RYZHYK, BORYS; FOUFIS, IOANNIS; PITSILKAS, VASSILIS\n",
            "\n",
            "----\n",
            "\n",
            "|TEAM|SCORE|\n",
            "|:-|:-:|\n",
            "|[ASVEL](https://www.euroleaguebasketball.net/euroleague/teams/ldlc-asvel-villeurbanne/asv/?season=2023-24)|80|\n",
            "|[Real Madrid](https://www.euroleaguebasketball.net/euroleague/teams/real-madrid/mad/?season=2023-24)|78|\n",
            "\n",
            "----\n",
            "\n",
            "|TEAM|1|2|3|4|\n",
            "|:-|:-:|:-:|:-:|:-:|\n",
            "|[ASVEL](https://www.euroleaguebasketball.net/eur...\n"
          ]
        },
        {
          "metadata": {
            "tags": null
          },
          "name": "stderr",
          "output_type": "stream",
          "text": [
            "WARNING:praw:It appears that you are using PRAW in an asynchronous environment.\n",
            "It is strongly recommended to use Async PRAW: https://asyncpraw.readthedocs.io.\n",
            "See https://praw.readthedocs.io/en/latest/getting_started/multiple_instances.html#discord-bots-and-asynchronous-environments for more info.\n",
            "\n"
          ]
        },
        {
          "metadata": {
            "tags": null
          },
          "name": "stdout",
          "output_type": "stream",
          "text": [
            "Not a Partizan game\n",
            "\n",
            "Found historical match thread: POST MATCH THREAD: ratiopharm Ulm - Trefl Sopot [EuroCup Regular Season, Round 10]\n",
            "Post content:\n",
            "**Event Date:** December 03, 2024 19:00 CET\n",
            "\n",
            "\n",
            "**Stadium:** RATIOPHARM ARENA\t\n",
            "\n",
            "\n",
            "**Attendance:** 2394\n",
            "\n",
            "\n",
            "**Referees:** SILVA, SERGIO; OBRKNEZEVIC, UROS ; GORDON, NOAM\n",
            "\n",
            "----\n",
            "\n",
            "|TEAM|SCORE|\n",
            "|:-|:-:|\n",
            "|[ratiopharm Ulm](https://www.euroleaguebasketball.net/eurocup/teams/ratiopharm-ulm/ulm/?season=2023-24)|83|\n",
            "|[Trefl Sopot](https://www.euroleaguebasketball.net/eurocup/teams/trefl-sopot/tso/?season=2023-24)|69|\n",
            "\n",
            "----\n",
            "\n",
            "|TEAM|1|2|3|4|\n",
            "|:-|:-:|:-:|:-:|:-:|\n",
            "|[ratiopharm Ulm](https://www.euroleaguebasketball.n...\n"
          ]
        },
        {
          "metadata": {
            "tags": null
          },
          "name": "stderr",
          "output_type": "stream",
          "text": [
            "WARNING:praw:It appears that you are using PRAW in an asynchronous environment.\n",
            "It is strongly recommended to use Async PRAW: https://asyncpraw.readthedocs.io.\n",
            "See https://praw.readthedocs.io/en/latest/getting_started/multiple_instances.html#discord-bots-and-asynchronous-environments for more info.\n",
            "\n"
          ]
        },
        {
          "metadata": {
            "tags": null
          },
          "name": "stdout",
          "output_type": "stream",
          "text": [
            "Not a Partizan game\n",
            "\n",
            "Found historical match thread: POST MATCH THREAD: Cedevita Olimpija Ljubljana - Cluj-Napoca [EuroCup Regular Season, Round 10]\n",
            "Post content:\n",
            "**Event Date:** December 03, 2024 18:30 CET\n",
            "\n",
            "\n",
            "**Stadium:** ARENA STOZICE\n",
            "\n",
            "\n",
            "**Attendance:** 1433\n",
            "\n",
            "\n",
            "**Referees:** CICI, GENTIAN; BISSUEL, THOMAS; POROBIC, DRAGAN\n",
            "\n",
            "----\n",
            "\n",
            "|TEAM|SCORE|\n",
            "|:-|:-:|\n",
            "|[Cedevita Olimpija Ljubljana](https://www.euroleaguebasketball.net/eurocup/teams/cedevita-olimpija-ljubljana/lju/?season=2023-24)|103|\n",
            "|[Cluj-Napoca](https://www.euroleaguebasketball.net/eurocup/teams/u-bt-cluj-napoca/clu/?season=2023-24)|96|\n",
            "\n",
            "----\n",
            "\n",
            "|TEAM|1|2|3|4|\n",
            "|:-|:-:|:-:|:-:|:-:|\n",
            "|[Cedevita Olimpija Ljub...\n"
          ]
        },
        {
          "metadata": {
            "tags": null
          },
          "name": "stderr",
          "output_type": "stream",
          "text": [
            "WARNING:praw:It appears that you are using PRAW in an asynchronous environment.\n",
            "It is strongly recommended to use Async PRAW: https://asyncpraw.readthedocs.io.\n",
            "See https://praw.readthedocs.io/en/latest/getting_started/multiple_instances.html#discord-bots-and-asynchronous-environments for more info.\n",
            "\n"
          ]
        },
        {
          "metadata": {
            "tags": null
          },
          "name": "stdout",
          "output_type": "stream",
          "text": [
            "Not a Partizan game\n",
            "\n",
            "Found historical match thread: POST MATCH THREAD: Anadolu Efes - Bayern Munich [EuroLeague Regular Season, Round 13]\n",
            "Post content:\n",
            "**Event Date:** December 03, 2024 18:30 CET\n",
            "\n",
            "\n",
            "**Stadium:** BASKETBALL DEVELOPMENT CENTER\n",
            "\n",
            "\n",
            "**Attendance:** 9770\n",
            "\n",
            "\n",
            "**Referees:** DIFALLAH, MEHDI; CORTES, CARLOS; GIOVANNETTI, GUIDO\n",
            "\n",
            "----\n",
            "\n",
            "|TEAM|SCORE|\n",
            "|:-|:-:|\n",
            "|[Anadolu Efes](https://www.euroleaguebasketball.net/euroleague/teams/anadolu-efes-istanbul/ist/?season=2023-24)|101|\n",
            "|[Bayern Munich](https://www.euroleaguebasketball.net/euroleague/teams/fc-bayern-munich/mun/?season=2023-24)|90|\n",
            "\n",
            "----\n",
            "\n",
            "|TEAM|1|2|3|4|\n",
            "|:-|:-:|:-:|:-:|:-:|\n",
            "|[Anadolu Efes](h...\n"
          ]
        },
        {
          "metadata": {
            "tags": null
          },
          "name": "stderr",
          "output_type": "stream",
          "text": [
            "WARNING:praw:It appears that you are using PRAW in an asynchronous environment.\n",
            "It is strongly recommended to use Async PRAW: https://asyncpraw.readthedocs.io.\n",
            "See https://praw.readthedocs.io/en/latest/getting_started/multiple_instances.html#discord-bots-and-asynchronous-environments for more info.\n",
            "\n"
          ]
        },
        {
          "metadata": {
            "tags": null
          },
          "name": "stdout",
          "output_type": "stream",
          "text": [
            "Not a Partizan game\n",
            "\n",
            "Now monitoring for new posts...\n"
          ]
        },
        {
          "metadata": {
            "tags": null
          },
          "name": "stderr",
          "output_type": "stream",
          "text": [
            "WARNING:praw:It appears that you are using PRAW in an asynchronous environment.\n",
            "It is strongly recommended to use Async PRAW: https://asyncpraw.readthedocs.io.\n",
            "See https://praw.readthedocs.io/en/latest/getting_started/multiple_instances.html#discord-bots-and-asynchronous-environments for more info.\n",
            "\n"
          ]
        },
        {
          "metadata": {
            "tags": null
          },
          "name": "stdout",
          "output_type": "stream",
          "text": [
            "\n",
            "Found new match thread: POST MATCH THREAD: Virtus Bologna - Alba Berlin [EuroLeague Regular Season, Round 13]\n"
          ]
        },
        {
          "metadata": {
            "tags": null
          },
          "name": "stderr",
          "output_type": "stream",
          "text": [
            "WARNING:praw:It appears that you are using PRAW in an asynchronous environment.\n",
            "It is strongly recommended to use Async PRAW: https://asyncpraw.readthedocs.io.\n",
            "See https://praw.readthedocs.io/en/latest/getting_started/multiple_instances.html#discord-bots-and-asynchronous-environments for more info.\n",
            "\n"
          ]
        },
        {
          "metadata": {
            "tags": null
          },
          "name": "stdout",
          "output_type": "stream",
          "text": [
            "Not a Partizan game\n",
            "\n",
            "Found new match thread: POST MATCH THREAD: Valencia - Hapoel Jerusalem [EuroCup Regular Season, Round 10]\n"
          ]
        },
        {
          "metadata": {
            "tags": null
          },
          "name": "stderr",
          "output_type": "stream",
          "text": [
            "WARNING:praw:It appears that you are using PRAW in an asynchronous environment.\n",
            "It is strongly recommended to use Async PRAW: https://asyncpraw.readthedocs.io.\n",
            "See https://praw.readthedocs.io/en/latest/getting_started/multiple_instances.html#discord-bots-and-asynchronous-environments for more info.\n",
            "\n"
          ]
        },
        {
          "metadata": {
            "tags": null
          },
          "name": "stdout",
          "output_type": "stream",
          "text": [
            "Not a Partizan game\n",
            "\n",
            "Found new match thread: POST MATCH THREAD: Olimpia Milano - Crvena Zvezda [EuroLeague Regular Season, Round 13]\n"
          ]
        },
        {
          "metadata": {
            "tags": null
          },
          "name": "stderr",
          "output_type": "stream",
          "text": [
            "WARNING:praw:It appears that you are using PRAW in an asynchronous environment.\n",
            "It is strongly recommended to use Async PRAW: https://asyncpraw.readthedocs.io.\n",
            "See https://praw.readthedocs.io/en/latest/getting_started/multiple_instances.html#discord-bots-and-asynchronous-environments for more info.\n",
            "\n"
          ]
        },
        {
          "metadata": {
            "tags": null
          },
          "name": "stdout",
          "output_type": "stream",
          "text": [
            "Not a Partizan game\n",
            "\n",
            "Found new match thread: POST MATCH THREAD: JL Bourg - Hamburg Towers [EuroCup Regular Season, Round 10]\n"
          ]
        },
        {
          "metadata": {
            "tags": null
          },
          "name": "stderr",
          "output_type": "stream",
          "text": [
            "WARNING:praw:It appears that you are using PRAW in an asynchronous environment.\n",
            "It is strongly recommended to use Async PRAW: https://asyncpraw.readthedocs.io.\n",
            "See https://praw.readthedocs.io/en/latest/getting_started/multiple_instances.html#discord-bots-and-asynchronous-environments for more info.\n",
            "\n"
          ]
        },
        {
          "metadata": {
            "tags": null
          },
          "name": "stdout",
          "output_type": "stream",
          "text": [
            "Not a Partizan game\n",
            "\n",
            "Found new match thread: POST MATCH THREAD: Buducnost - Besiktas [EuroCup Regular Season, Round 10]\n"
          ]
        },
        {
          "metadata": {
            "tags": null
          },
          "name": "stderr",
          "output_type": "stream",
          "text": [
            "WARNING:praw:It appears that you are using PRAW in an asynchronous environment.\n",
            "It is strongly recommended to use Async PRAW: https://asyncpraw.readthedocs.io.\n",
            "See https://praw.readthedocs.io/en/latest/getting_started/multiple_instances.html#discord-bots-and-asynchronous-environments for more info.\n",
            "\n"
          ]
        },
        {
          "metadata": {
            "tags": null
          },
          "name": "stdout",
          "output_type": "stream",
          "text": [
            "Not a Partizan game\n",
            "\n",
            "Found new match thread: POST MATCH THREAD: Aris BC - Reyer Venezia [EuroCup Regular Season, Round 10]\n"
          ]
        },
        {
          "metadata": {
            "tags": null
          },
          "name": "stderr",
          "output_type": "stream",
          "text": [
            "WARNING:praw:It appears that you are using PRAW in an asynchronous environment.\n",
            "It is strongly recommended to use Async PRAW: https://asyncpraw.readthedocs.io.\n",
            "See https://praw.readthedocs.io/en/latest/getting_started/multiple_instances.html#discord-bots-and-asynchronous-environments for more info.\n",
            "\n"
          ]
        },
        {
          "metadata": {
            "tags": null
          },
          "name": "stdout",
          "output_type": "stream",
          "text": [
            "Not a Partizan game\n",
            "\n",
            "Found new match thread: POST MATCH THREAD: AS Monaco - Olympiacos [EuroLeague Regular Season, Round 13]\n"
          ]
        },
        {
          "metadata": {
            "tags": null
          },
          "name": "stderr",
          "output_type": "stream",
          "text": [
            "WARNING:praw:It appears that you are using PRAW in an asynchronous environment.\n",
            "It is strongly recommended to use Async PRAW: https://asyncpraw.readthedocs.io.\n",
            "See https://praw.readthedocs.io/en/latest/getting_started/multiple_instances.html#discord-bots-and-asynchronous-environments for more info.\n",
            "\n"
          ]
        },
        {
          "metadata": {
            "tags": null
          },
          "name": "stdout",
          "output_type": "stream",
          "text": [
            "Not a Partizan game\n",
            "\n",
            "Found new match thread: POST MATCH THREAD: Hapoel Tel Aviv - Joventut Badalona [EuroCup Regular Season, Round 10]\n",
            "Not a Partizan game\n",
            "."
          ]
        },
        {
          "metadata": {
            "tags": null
          },
          "name": "stderr",
          "output_type": "stream",
          "text": [
            "WARNING:praw:It appears that you are using PRAW in an asynchronous environment.\n",
            "It is strongly recommended to use Async PRAW: https://asyncpraw.readthedocs.io.\n",
            "See https://praw.readthedocs.io/en/latest/getting_started/multiple_instances.html#discord-bots-and-asynchronous-environments for more info.\n",
            "\n"
          ]
        },
        {
          "metadata": {
            "tags": null
          },
          "name": "stdout",
          "output_type": "stream",
          "text": [
            "."
          ]
        },
        {
          "metadata": {
            "tags": null
          },
          "name": "stderr",
          "output_type": "stream",
          "text": [
            "WARNING:praw:It appears that you are using PRAW in an asynchronous environment.\n",
            "It is strongly recommended to use Async PRAW: https://asyncpraw.readthedocs.io.\n",
            "See https://praw.readthedocs.io/en/latest/getting_started/multiple_instances.html#discord-bots-and-asynchronous-environments for more info.\n",
            "\n"
          ]
        },
        {
          "metadata": {
            "tags": null
          },
          "name": "stdout",
          "output_type": "stream",
          "text": [
            "."
          ]
        },
        {
          "metadata": {
            "tags": null
          },
          "name": "stderr",
          "output_type": "stream",
          "text": [
            "WARNING:praw:It appears that you are using PRAW in an asynchronous environment.\n",
            "It is strongly recommended to use Async PRAW: https://asyncpraw.readthedocs.io.\n",
            "See https://praw.readthedocs.io/en/latest/getting_started/multiple_instances.html#discord-bots-and-asynchronous-environments for more info.\n",
            "\n"
          ]
        },
        {
          "metadata": {
            "tags": null
          },
          "name": "stdout",
          "output_type": "stream",
          "text": [
            "."
          ]
        },
        {
          "metadata": {
            "tags": null
          },
          "name": "stderr",
          "output_type": "stream",
          "text": [
            "WARNING:praw:It appears that you are using PRAW in an asynchronous environment.\n",
            "It is strongly recommended to use Async PRAW: https://asyncpraw.readthedocs.io.\n",
            "See https://praw.readthedocs.io/en/latest/getting_started/multiple_instances.html#discord-bots-and-asynchronous-environments for more info.\n",
            "\n"
          ]
        },
        {
          "metadata": {
            "tags": null
          },
          "name": "stdout",
          "output_type": "stream",
          "text": [
            "."
          ]
        },
        {
          "metadata": {
            "tags": null
          },
          "name": "stderr",
          "output_type": "stream",
          "text": [
            "WARNING:praw:It appears that you are using PRAW in an asynchronous environment.\n",
            "It is strongly recommended to use Async PRAW: https://asyncpraw.readthedocs.io.\n",
            "See https://praw.readthedocs.io/en/latest/getting_started/multiple_instances.html#discord-bots-and-asynchronous-environments for more info.\n",
            "\n"
          ]
        },
        {
          "metadata": {
            "tags": null
          },
          "name": "stdout",
          "output_type": "stream",
          "text": [
            "."
          ]
        },
        {
          "metadata": {
            "tags": null
          },
          "name": "stderr",
          "output_type": "stream",
          "text": [
            "WARNING:praw:It appears that you are using PRAW in an asynchronous environment.\n",
            "It is strongly recommended to use Async PRAW: https://asyncpraw.readthedocs.io.\n",
            "See https://praw.readthedocs.io/en/latest/getting_started/multiple_instances.html#discord-bots-and-asynchronous-environments for more info.\n",
            "\n"
          ]
        },
        {
          "metadata": {
            "tags": null
          },
          "name": "stdout",
          "output_type": "stream",
          "text": [
            "."
          ]
        },
        {
          "metadata": {
            "tags": null
          },
          "name": "stderr",
          "output_type": "stream",
          "text": [
            "WARNING:praw:It appears that you are using PRAW in an asynchronous environment.\n",
            "It is strongly recommended to use Async PRAW: https://asyncpraw.readthedocs.io.\n",
            "See https://praw.readthedocs.io/en/latest/getting_started/multiple_instances.html#discord-bots-and-asynchronous-environments for more info.\n",
            "\n"
          ]
        },
        {
          "metadata": {
            "tags": null
          },
          "name": "stdout",
          "output_type": "stream",
          "text": [
            "."
          ]
        },
        {
          "metadata": {
            "tags": null
          },
          "name": "stderr",
          "output_type": "stream",
          "text": [
            "WARNING:praw:It appears that you are using PRAW in an asynchronous environment.\n",
            "It is strongly recommended to use Async PRAW: https://asyncpraw.readthedocs.io.\n",
            "See https://praw.readthedocs.io/en/latest/getting_started/multiple_instances.html#discord-bots-and-asynchronous-environments for more info.\n",
            "\n"
          ]
        },
        {
          "metadata": {
            "tags": null
          },
          "name": "stdout",
          "output_type": "stream",
          "text": [
            "."
          ]
        },
        {
          "metadata": {
            "tags": null
          },
          "name": "stderr",
          "output_type": "stream",
          "text": [
            "WARNING:praw:It appears that you are using PRAW in an asynchronous environment.\n",
            "It is strongly recommended to use Async PRAW: https://asyncpraw.readthedocs.io.\n",
            "See https://praw.readthedocs.io/en/latest/getting_started/multiple_instances.html#discord-bots-and-asynchronous-environments for more info.\n",
            "\n"
          ]
        },
        {
          "metadata": {
            "tags": null
          },
          "name": "stdout",
          "output_type": "stream",
          "text": [
            "."
          ]
        },
        {
          "metadata": {
            "tags": null
          },
          "name": "stderr",
          "output_type": "stream",
          "text": [
            "WARNING:praw:It appears that you are using PRAW in an asynchronous environment.\n",
            "It is strongly recommended to use Async PRAW: https://asyncpraw.readthedocs.io.\n",
            "See https://praw.readthedocs.io/en/latest/getting_started/multiple_instances.html#discord-bots-and-asynchronous-environments for more info.\n",
            "\n"
          ]
        },
        {
          "metadata": {
            "tags": null
          },
          "name": "stdout",
          "output_type": "stream",
          "text": [
            "."
          ]
        },
        {
          "metadata": {
            "tags": null
          },
          "name": "stderr",
          "output_type": "stream",
          "text": [
            "WARNING:praw:It appears that you are using PRAW in an asynchronous environment.\n",
            "It is strongly recommended to use Async PRAW: https://asyncpraw.readthedocs.io.\n",
            "See https://praw.readthedocs.io/en/latest/getting_started/multiple_instances.html#discord-bots-and-asynchronous-environments for more info.\n",
            "\n"
          ]
        },
        {
          "metadata": {
            "tags": null
          },
          "name": "stdout",
          "output_type": "stream",
          "text": [
            "."
          ]
        },
        {
          "metadata": {
            "tags": null
          },
          "name": "stderr",
          "output_type": "stream",
          "text": [
            "WARNING:praw:It appears that you are using PRAW in an asynchronous environment.\n",
            "It is strongly recommended to use Async PRAW: https://asyncpraw.readthedocs.io.\n",
            "See https://praw.readthedocs.io/en/latest/getting_started/multiple_instances.html#discord-bots-and-asynchronous-environments for more info.\n",
            "\n"
          ]
        },
        {
          "metadata": {
            "tags": null
          },
          "name": "stdout",
          "output_type": "stream",
          "text": [
            "."
          ]
        },
        {
          "metadata": {
            "tags": null
          },
          "name": "stderr",
          "output_type": "stream",
          "text": [
            "WARNING:praw:It appears that you are using PRAW in an asynchronous environment.\n",
            "It is strongly recommended to use Async PRAW: https://asyncpraw.readthedocs.io.\n",
            "See https://praw.readthedocs.io/en/latest/getting_started/multiple_instances.html#discord-bots-and-asynchronous-environments for more info.\n",
            "\n"
          ]
        },
        {
          "metadata": {
            "tags": null
          },
          "name": "stdout",
          "output_type": "stream",
          "text": [
            "."
          ]
        },
        {
          "metadata": {
            "tags": null
          },
          "name": "stderr",
          "output_type": "stream",
          "text": [
            "WARNING:praw:It appears that you are using PRAW in an asynchronous environment.\n",
            "It is strongly recommended to use Async PRAW: https://asyncpraw.readthedocs.io.\n",
            "See https://praw.readthedocs.io/en/latest/getting_started/multiple_instances.html#discord-bots-and-asynchronous-environments for more info.\n",
            "\n"
          ]
        },
        {
          "metadata": {
            "tags": null
          },
          "name": "stdout",
          "output_type": "stream",
          "text": [
            "."
          ]
        },
        {
          "metadata": {
            "tags": null
          },
          "name": "stderr",
          "output_type": "stream",
          "text": [
            "WARNING:praw:It appears that you are using PRAW in an asynchronous environment.\n",
            "It is strongly recommended to use Async PRAW: https://asyncpraw.readthedocs.io.\n",
            "See https://praw.readthedocs.io/en/latest/getting_started/multiple_instances.html#discord-bots-and-asynchronous-environments for more info.\n",
            "\n"
          ]
        },
        {
          "metadata": {
            "tags": null
          },
          "name": "stdout",
          "output_type": "stream",
          "text": [
            "."
          ]
        },
        {
          "metadata": {
            "tags": null
          },
          "name": "stderr",
          "output_type": "stream",
          "text": [
            "WARNING:praw:It appears that you are using PRAW in an asynchronous environment.\n",
            "It is strongly recommended to use Async PRAW: https://asyncpraw.readthedocs.io.\n",
            "See https://praw.readthedocs.io/en/latest/getting_started/multiple_instances.html#discord-bots-and-asynchronous-environments for more info.\n",
            "\n"
          ]
        },
        {
          "metadata": {
            "tags": null
          },
          "name": "stdout",
          "output_type": "stream",
          "text": [
            "."
          ]
        },
        {
          "metadata": {
            "tags": null
          },
          "name": "stderr",
          "output_type": "stream",
          "text": [
            "WARNING:praw:It appears that you are using PRAW in an asynchronous environment.\n",
            "It is strongly recommended to use Async PRAW: https://asyncpraw.readthedocs.io.\n",
            "See https://praw.readthedocs.io/en/latest/getting_started/multiple_instances.html#discord-bots-and-asynchronous-environments for more info.\n",
            "\n"
          ]
        },
        {
          "metadata": {
            "tags": null
          },
          "name": "stdout",
          "output_type": "stream",
          "text": [
            "."
          ]
        },
        {
          "metadata": {
            "tags": null
          },
          "name": "stderr",
          "output_type": "stream",
          "text": [
            "WARNING:praw:It appears that you are using PRAW in an asynchronous environment.\n",
            "It is strongly recommended to use Async PRAW: https://asyncpraw.readthedocs.io.\n",
            "See https://praw.readthedocs.io/en/latest/getting_started/multiple_instances.html#discord-bots-and-asynchronous-environments for more info.\n",
            "\n"
          ]
        },
        {
          "metadata": {
            "tags": null
          },
          "name": "stdout",
          "output_type": "stream",
          "text": [
            "."
          ]
        },
        {
          "metadata": {
            "tags": null
          },
          "name": "stderr",
          "output_type": "stream",
          "text": [
            "WARNING:praw:It appears that you are using PRAW in an asynchronous environment.\n",
            "It is strongly recommended to use Async PRAW: https://asyncpraw.readthedocs.io.\n",
            "See https://praw.readthedocs.io/en/latest/getting_started/multiple_instances.html#discord-bots-and-asynchronous-environments for more info.\n",
            "\n"
          ]
        },
        {
          "metadata": {
            "tags": null
          },
          "name": "stdout",
          "output_type": "stream",
          "text": [
            "."
          ]
        },
        {
          "output_type": "stream",
          "name": "stderr",
          "text": [
            "WARNING:praw:It appears that you are using PRAW in an asynchronous environment.\n",
            "It is strongly recommended to use Async PRAW: https://asyncpraw.readthedocs.io.\n",
            "See https://praw.readthedocs.io/en/latest/getting_started/multiple_instances.html#discord-bots-and-asynchronous-environments for more info.\n",
            "\n"
          ]
        },
        {
          "output_type": "error",
          "ename": "KeyboardInterrupt",
          "evalue": "",
          "traceback": [
            "\u001b[0;31m---------------------------------------------------------------------------\u001b[0m",
            "\u001b[0;31mKeyboardInterrupt\u001b[0m                         Traceback (most recent call last)",
            "\u001b[0;32m<ipython-input-11-f1f9620e0444>\u001b[0m in \u001b[0;36m<cell line: 205>\u001b[0;34m()\u001b[0m\n\u001b[1;32m    204\u001b[0m \u001b[0;34m\u001b[0m\u001b[0m\n\u001b[1;32m    205\u001b[0m \u001b[0;32mif\u001b[0m \u001b[0m__name__\u001b[0m \u001b[0;34m==\u001b[0m \u001b[0;34m\"__main__\"\u001b[0m\u001b[0;34m:\u001b[0m\u001b[0;34m\u001b[0m\u001b[0;34m\u001b[0m\u001b[0m\n\u001b[0;32m--> 206\u001b[0;31m     \u001b[0mrun_bot\u001b[0m\u001b[0;34m(\u001b[0m\u001b[0;34m)\u001b[0m\u001b[0;34m\u001b[0m\u001b[0;34m\u001b[0m\u001b[0m\n\u001b[0m",
            "\u001b[0;32m<ipython-input-11-f1f9620e0444>\u001b[0m in \u001b[0;36mrun_bot\u001b[0;34m()\u001b[0m\n\u001b[1;32m    176\u001b[0m     \u001b[0;32mwhile\u001b[0m \u001b[0;32mTrue\u001b[0m\u001b[0;34m:\u001b[0m\u001b[0;34m\u001b[0m\u001b[0;34m\u001b[0m\u001b[0m\n\u001b[1;32m    177\u001b[0m         \u001b[0;32mtry\u001b[0m\u001b[0;34m:\u001b[0m\u001b[0;34m\u001b[0m\u001b[0;34m\u001b[0m\u001b[0m\n\u001b[0;32m--> 178\u001b[0;31m             \u001b[0;32mfor\u001b[0m \u001b[0msubmission\u001b[0m \u001b[0;32min\u001b[0m \u001b[0msubreddit\u001b[0m\u001b[0;34m.\u001b[0m\u001b[0mnew\u001b[0m\u001b[0;34m(\u001b[0m\u001b[0mlimit\u001b[0m\u001b[0;34m=\u001b[0m\u001b[0;36m10\u001b[0m\u001b[0;34m)\u001b[0m\u001b[0;34m:\u001b[0m\u001b[0;34m\u001b[0m\u001b[0;34m\u001b[0m\u001b[0m\n\u001b[0m\u001b[1;32m    179\u001b[0m                 \u001b[0;32mif\u001b[0m \u001b[0msubmission\u001b[0m\u001b[0;34m.\u001b[0m\u001b[0mid\u001b[0m \u001b[0;32min\u001b[0m \u001b[0malready_processed\u001b[0m\u001b[0;34m:\u001b[0m\u001b[0;34m\u001b[0m\u001b[0;34m\u001b[0m\u001b[0m\n\u001b[1;32m    180\u001b[0m                     \u001b[0;32mcontinue\u001b[0m\u001b[0;34m\u001b[0m\u001b[0;34m\u001b[0m\u001b[0m\n",
            "\u001b[0;32m/usr/local/lib/python3.10/dist-packages/praw/models/listing/generator.py\u001b[0m in \u001b[0;36m__next__\u001b[0;34m(self)\u001b[0m\n\u001b[1;32m     64\u001b[0m \u001b[0;34m\u001b[0m\u001b[0m\n\u001b[1;32m     65\u001b[0m         \u001b[0;32mif\u001b[0m \u001b[0mself\u001b[0m\u001b[0;34m.\u001b[0m\u001b[0m_listing\u001b[0m \u001b[0;32mis\u001b[0m \u001b[0;32mNone\u001b[0m \u001b[0;32mor\u001b[0m \u001b[0mself\u001b[0m\u001b[0;34m.\u001b[0m\u001b[0m_list_index\u001b[0m \u001b[0;34m>=\u001b[0m \u001b[0mlen\u001b[0m\u001b[0;34m(\u001b[0m\u001b[0mself\u001b[0m\u001b[0;34m.\u001b[0m\u001b[0m_listing\u001b[0m\u001b[0;34m)\u001b[0m\u001b[0;34m:\u001b[0m\u001b[0;34m\u001b[0m\u001b[0;34m\u001b[0m\u001b[0m\n\u001b[0;32m---> 66\u001b[0;31m             \u001b[0mself\u001b[0m\u001b[0;34m.\u001b[0m\u001b[0m_next_batch\u001b[0m\u001b[0;34m(\u001b[0m\u001b[0;34m)\u001b[0m\u001b[0;34m\u001b[0m\u001b[0;34m\u001b[0m\u001b[0m\n\u001b[0m\u001b[1;32m     67\u001b[0m \u001b[0;34m\u001b[0m\u001b[0m\n\u001b[1;32m     68\u001b[0m         \u001b[0mself\u001b[0m\u001b[0;34m.\u001b[0m\u001b[0m_list_index\u001b[0m \u001b[0;34m+=\u001b[0m \u001b[0;36m1\u001b[0m\u001b[0;34m\u001b[0m\u001b[0;34m\u001b[0m\u001b[0m\n",
            "\u001b[0;32m/usr/local/lib/python3.10/dist-packages/praw/models/listing/generator.py\u001b[0m in \u001b[0;36m_next_batch\u001b[0;34m(self)\u001b[0m\n\u001b[1;32m     88\u001b[0m             \u001b[0;32mraise\u001b[0m \u001b[0mStopIteration\u001b[0m\u001b[0;34m\u001b[0m\u001b[0;34m\u001b[0m\u001b[0m\n\u001b[1;32m     89\u001b[0m \u001b[0;34m\u001b[0m\u001b[0m\n\u001b[0;32m---> 90\u001b[0;31m         \u001b[0mself\u001b[0m\u001b[0;34m.\u001b[0m\u001b[0m_listing\u001b[0m \u001b[0;34m=\u001b[0m \u001b[0mself\u001b[0m\u001b[0;34m.\u001b[0m\u001b[0m_reddit\u001b[0m\u001b[0;34m.\u001b[0m\u001b[0mget\u001b[0m\u001b[0;34m(\u001b[0m\u001b[0mself\u001b[0m\u001b[0;34m.\u001b[0m\u001b[0murl\u001b[0m\u001b[0;34m,\u001b[0m \u001b[0mparams\u001b[0m\u001b[0;34m=\u001b[0m\u001b[0mself\u001b[0m\u001b[0;34m.\u001b[0m\u001b[0mparams\u001b[0m\u001b[0;34m)\u001b[0m\u001b[0;34m\u001b[0m\u001b[0;34m\u001b[0m\u001b[0m\n\u001b[0m\u001b[1;32m     91\u001b[0m         \u001b[0mself\u001b[0m\u001b[0;34m.\u001b[0m\u001b[0m_listing\u001b[0m \u001b[0;34m=\u001b[0m \u001b[0mself\u001b[0m\u001b[0;34m.\u001b[0m\u001b[0m_extract_sublist\u001b[0m\u001b[0;34m(\u001b[0m\u001b[0mself\u001b[0m\u001b[0;34m.\u001b[0m\u001b[0m_listing\u001b[0m\u001b[0;34m)\u001b[0m\u001b[0;34m\u001b[0m\u001b[0;34m\u001b[0m\u001b[0m\n\u001b[1;32m     92\u001b[0m         \u001b[0mself\u001b[0m\u001b[0;34m.\u001b[0m\u001b[0m_list_index\u001b[0m \u001b[0;34m=\u001b[0m \u001b[0;36m0\u001b[0m\u001b[0;34m\u001b[0m\u001b[0;34m\u001b[0m\u001b[0m\n",
            "\u001b[0;32m/usr/local/lib/python3.10/dist-packages/praw/util/deprecate_args.py\u001b[0m in \u001b[0;36mwrapped\u001b[0;34m(*args, **kwargs)\u001b[0m\n\u001b[1;32m     44\u001b[0m                     \u001b[0mstacklevel\u001b[0m\u001b[0;34m=\u001b[0m\u001b[0;36m2\u001b[0m\u001b[0;34m,\u001b[0m\u001b[0;34m\u001b[0m\u001b[0;34m\u001b[0m\u001b[0m\n\u001b[1;32m     45\u001b[0m                 )\n\u001b[0;32m---> 46\u001b[0;31m             \u001b[0;32mreturn\u001b[0m \u001b[0mfunc\u001b[0m\u001b[0;34m(\u001b[0m\u001b[0;34m**\u001b[0m\u001b[0mdict\u001b[0m\u001b[0;34m(\u001b[0m\u001b[0mzip\u001b[0m\u001b[0;34m(\u001b[0m\u001b[0m_old_args\u001b[0m\u001b[0;34m,\u001b[0m \u001b[0margs\u001b[0m\u001b[0;34m)\u001b[0m\u001b[0;34m)\u001b[0m\u001b[0;34m,\u001b[0m \u001b[0;34m**\u001b[0m\u001b[0mkwargs\u001b[0m\u001b[0;34m)\u001b[0m\u001b[0;34m\u001b[0m\u001b[0;34m\u001b[0m\u001b[0m\n\u001b[0m\u001b[1;32m     47\u001b[0m \u001b[0;34m\u001b[0m\u001b[0m\n\u001b[1;32m     48\u001b[0m         \u001b[0;32mreturn\u001b[0m \u001b[0mwrapped\u001b[0m\u001b[0;34m\u001b[0m\u001b[0;34m\u001b[0m\u001b[0m\n",
            "\u001b[0;32m/usr/local/lib/python3.10/dist-packages/praw/reddit.py\u001b[0m in \u001b[0;36mget\u001b[0;34m(self, path, params)\u001b[0m\n\u001b[1;32m    729\u001b[0m \u001b[0;34m\u001b[0m\u001b[0m\n\u001b[1;32m    730\u001b[0m         \"\"\"\n\u001b[0;32m--> 731\u001b[0;31m         \u001b[0;32mreturn\u001b[0m \u001b[0mself\u001b[0m\u001b[0;34m.\u001b[0m\u001b[0m_objectify_request\u001b[0m\u001b[0;34m(\u001b[0m\u001b[0mmethod\u001b[0m\u001b[0;34m=\u001b[0m\u001b[0;34m\"GET\"\u001b[0m\u001b[0;34m,\u001b[0m \u001b[0mparams\u001b[0m\u001b[0;34m=\u001b[0m\u001b[0mparams\u001b[0m\u001b[0;34m,\u001b[0m \u001b[0mpath\u001b[0m\u001b[0;34m=\u001b[0m\u001b[0mpath\u001b[0m\u001b[0;34m)\u001b[0m\u001b[0;34m\u001b[0m\u001b[0;34m\u001b[0m\u001b[0m\n\u001b[0m\u001b[1;32m    732\u001b[0m \u001b[0;34m\u001b[0m\u001b[0m\n\u001b[1;32m    733\u001b[0m     \u001b[0;34m@\u001b[0m\u001b[0m_deprecate_args\u001b[0m\u001b[0;34m(\u001b[0m\u001b[0;34m\"fullnames\"\u001b[0m\u001b[0;34m,\u001b[0m \u001b[0;34m\"url\"\u001b[0m\u001b[0;34m,\u001b[0m \u001b[0;34m\"subreddits\"\u001b[0m\u001b[0;34m)\u001b[0m\u001b[0;34m\u001b[0m\u001b[0;34m\u001b[0m\u001b[0m\n",
            "\u001b[0;32m/usr/local/lib/python3.10/dist-packages/praw/reddit.py\u001b[0m in \u001b[0;36m_objectify_request\u001b[0;34m(self, data, files, json, method, params, path)\u001b[0m\n\u001b[1;32m    512\u001b[0m         \"\"\"\n\u001b[1;32m    513\u001b[0m         return self._objector.objectify(\n\u001b[0;32m--> 514\u001b[0;31m             self.request(\n\u001b[0m\u001b[1;32m    515\u001b[0m                 \u001b[0mdata\u001b[0m\u001b[0;34m=\u001b[0m\u001b[0mdata\u001b[0m\u001b[0;34m,\u001b[0m\u001b[0;34m\u001b[0m\u001b[0;34m\u001b[0m\u001b[0m\n\u001b[1;32m    516\u001b[0m                 \u001b[0mfiles\u001b[0m\u001b[0;34m=\u001b[0m\u001b[0mfiles\u001b[0m\u001b[0;34m,\u001b[0m\u001b[0;34m\u001b[0m\u001b[0;34m\u001b[0m\u001b[0m\n",
            "\u001b[0;32m/usr/local/lib/python3.10/dist-packages/praw/util/deprecate_args.py\u001b[0m in \u001b[0;36mwrapped\u001b[0;34m(*args, **kwargs)\u001b[0m\n\u001b[1;32m     44\u001b[0m                     \u001b[0mstacklevel\u001b[0m\u001b[0;34m=\u001b[0m\u001b[0;36m2\u001b[0m\u001b[0;34m,\u001b[0m\u001b[0;34m\u001b[0m\u001b[0;34m\u001b[0m\u001b[0m\n\u001b[1;32m     45\u001b[0m                 )\n\u001b[0;32m---> 46\u001b[0;31m             \u001b[0;32mreturn\u001b[0m \u001b[0mfunc\u001b[0m\u001b[0;34m(\u001b[0m\u001b[0;34m**\u001b[0m\u001b[0mdict\u001b[0m\u001b[0;34m(\u001b[0m\u001b[0mzip\u001b[0m\u001b[0;34m(\u001b[0m\u001b[0m_old_args\u001b[0m\u001b[0;34m,\u001b[0m \u001b[0margs\u001b[0m\u001b[0;34m)\u001b[0m\u001b[0;34m)\u001b[0m\u001b[0;34m,\u001b[0m \u001b[0;34m**\u001b[0m\u001b[0mkwargs\u001b[0m\u001b[0;34m)\u001b[0m\u001b[0;34m\u001b[0m\u001b[0;34m\u001b[0m\u001b[0m\n\u001b[0m\u001b[1;32m     47\u001b[0m \u001b[0;34m\u001b[0m\u001b[0m\n\u001b[1;32m     48\u001b[0m         \u001b[0;32mreturn\u001b[0m \u001b[0mwrapped\u001b[0m\u001b[0;34m\u001b[0m\u001b[0;34m\u001b[0m\u001b[0m\n",
            "\u001b[0;32m/usr/local/lib/python3.10/dist-packages/praw/reddit.py\u001b[0m in \u001b[0;36mrequest\u001b[0;34m(self, data, files, json, method, params, path)\u001b[0m\n\u001b[1;32m    961\u001b[0m             \u001b[0;32mraise\u001b[0m \u001b[0mClientException\u001b[0m\u001b[0;34m(\u001b[0m\u001b[0mmsg\u001b[0m\u001b[0;34m)\u001b[0m\u001b[0;34m\u001b[0m\u001b[0;34m\u001b[0m\u001b[0m\n\u001b[1;32m    962\u001b[0m         \u001b[0;32mtry\u001b[0m\u001b[0;34m:\u001b[0m\u001b[0;34m\u001b[0m\u001b[0;34m\u001b[0m\u001b[0m\n\u001b[0;32m--> 963\u001b[0;31m             return self._core.request(\n\u001b[0m\u001b[1;32m    964\u001b[0m                 \u001b[0mdata\u001b[0m\u001b[0;34m=\u001b[0m\u001b[0mdata\u001b[0m\u001b[0;34m,\u001b[0m\u001b[0;34m\u001b[0m\u001b[0;34m\u001b[0m\u001b[0m\n\u001b[1;32m    965\u001b[0m                 \u001b[0mfiles\u001b[0m\u001b[0;34m=\u001b[0m\u001b[0mfiles\u001b[0m\u001b[0;34m,\u001b[0m\u001b[0;34m\u001b[0m\u001b[0;34m\u001b[0m\u001b[0m\n",
            "\u001b[0;32m/usr/local/lib/python3.10/dist-packages/prawcore/sessions.py\u001b[0m in \u001b[0;36mrequest\u001b[0;34m(self, method, path, data, files, json, params, timeout)\u001b[0m\n\u001b[1;32m    326\u001b[0m             \u001b[0mjson\u001b[0m\u001b[0;34m[\u001b[0m\u001b[0;34m\"api_type\"\u001b[0m\u001b[0;34m]\u001b[0m \u001b[0;34m=\u001b[0m \u001b[0;34m\"json\"\u001b[0m\u001b[0;34m\u001b[0m\u001b[0;34m\u001b[0m\u001b[0m\n\u001b[1;32m    327\u001b[0m         \u001b[0murl\u001b[0m \u001b[0;34m=\u001b[0m \u001b[0murljoin\u001b[0m\u001b[0;34m(\u001b[0m\u001b[0mself\u001b[0m\u001b[0;34m.\u001b[0m\u001b[0m_requestor\u001b[0m\u001b[0;34m.\u001b[0m\u001b[0moauth_url\u001b[0m\u001b[0;34m,\u001b[0m \u001b[0mpath\u001b[0m\u001b[0;34m)\u001b[0m\u001b[0;34m\u001b[0m\u001b[0;34m\u001b[0m\u001b[0m\n\u001b[0;32m--> 328\u001b[0;31m         return self._request_with_retries(\n\u001b[0m\u001b[1;32m    329\u001b[0m             \u001b[0mdata\u001b[0m\u001b[0;34m=\u001b[0m\u001b[0mdata\u001b[0m\u001b[0;34m,\u001b[0m\u001b[0;34m\u001b[0m\u001b[0;34m\u001b[0m\u001b[0m\n\u001b[1;32m    330\u001b[0m             \u001b[0mfiles\u001b[0m\u001b[0;34m=\u001b[0m\u001b[0mfiles\u001b[0m\u001b[0;34m,\u001b[0m\u001b[0;34m\u001b[0m\u001b[0;34m\u001b[0m\u001b[0m\n",
            "\u001b[0;32m/usr/local/lib/python3.10/dist-packages/prawcore/sessions.py\u001b[0m in \u001b[0;36m_request_with_retries\u001b[0;34m(self, data, files, json, method, params, timeout, url, retry_strategy_state)\u001b[0m\n\u001b[1;32m    232\u001b[0m         \u001b[0mretry_strategy_state\u001b[0m\u001b[0;34m.\u001b[0m\u001b[0msleep\u001b[0m\u001b[0;34m(\u001b[0m\u001b[0;34m)\u001b[0m\u001b[0;34m\u001b[0m\u001b[0;34m\u001b[0m\u001b[0m\n\u001b[1;32m    233\u001b[0m         \u001b[0mself\u001b[0m\u001b[0;34m.\u001b[0m\u001b[0m_log_request\u001b[0m\u001b[0;34m(\u001b[0m\u001b[0mdata\u001b[0m\u001b[0;34m,\u001b[0m \u001b[0mmethod\u001b[0m\u001b[0;34m,\u001b[0m \u001b[0mparams\u001b[0m\u001b[0;34m,\u001b[0m \u001b[0murl\u001b[0m\u001b[0;34m)\u001b[0m\u001b[0;34m\u001b[0m\u001b[0;34m\u001b[0m\u001b[0m\n\u001b[0;32m--> 234\u001b[0;31m         response, saved_exception = self._make_request(\n\u001b[0m\u001b[1;32m    235\u001b[0m             \u001b[0mdata\u001b[0m\u001b[0;34m,\u001b[0m\u001b[0;34m\u001b[0m\u001b[0;34m\u001b[0m\u001b[0m\n\u001b[1;32m    236\u001b[0m             \u001b[0mfiles\u001b[0m\u001b[0;34m,\u001b[0m\u001b[0;34m\u001b[0m\u001b[0;34m\u001b[0m\u001b[0m\n",
            "\u001b[0;32m/usr/local/lib/python3.10/dist-packages/prawcore/sessions.py\u001b[0m in \u001b[0;36m_make_request\u001b[0;34m(self, data, files, json, method, params, retry_strategy_state, timeout, url)\u001b[0m\n\u001b[1;32m    184\u001b[0m     ) -> tuple[Response, None] | tuple[None, Exception]:\n\u001b[1;32m    185\u001b[0m         \u001b[0;32mtry\u001b[0m\u001b[0;34m:\u001b[0m\u001b[0;34m\u001b[0m\u001b[0;34m\u001b[0m\u001b[0m\n\u001b[0;32m--> 186\u001b[0;31m             response = self._rate_limiter.call(\n\u001b[0m\u001b[1;32m    187\u001b[0m                 \u001b[0mself\u001b[0m\u001b[0;34m.\u001b[0m\u001b[0m_requestor\u001b[0m\u001b[0;34m.\u001b[0m\u001b[0mrequest\u001b[0m\u001b[0;34m,\u001b[0m\u001b[0;34m\u001b[0m\u001b[0;34m\u001b[0m\u001b[0m\n\u001b[1;32m    188\u001b[0m                 \u001b[0mself\u001b[0m\u001b[0;34m.\u001b[0m\u001b[0m_set_header_callback\u001b[0m\u001b[0;34m,\u001b[0m\u001b[0;34m\u001b[0m\u001b[0;34m\u001b[0m\u001b[0m\n",
            "\u001b[0;32m/usr/local/lib/python3.10/dist-packages/prawcore/rate_limit.py\u001b[0m in \u001b[0;36mcall\u001b[0;34m(self, request_function, set_header_callback, *args, **kwargs)\u001b[0m\n\u001b[1;32m     45\u001b[0m         \u001b[0mself\u001b[0m\u001b[0;34m.\u001b[0m\u001b[0mdelay\u001b[0m\u001b[0;34m(\u001b[0m\u001b[0;34m)\u001b[0m\u001b[0;34m\u001b[0m\u001b[0;34m\u001b[0m\u001b[0m\n\u001b[1;32m     46\u001b[0m         \u001b[0mkwargs\u001b[0m\u001b[0;34m[\u001b[0m\u001b[0;34m\"headers\"\u001b[0m\u001b[0;34m]\u001b[0m \u001b[0;34m=\u001b[0m \u001b[0mset_header_callback\u001b[0m\u001b[0;34m(\u001b[0m\u001b[0;34m)\u001b[0m\u001b[0;34m\u001b[0m\u001b[0;34m\u001b[0m\u001b[0m\n\u001b[0;32m---> 47\u001b[0;31m         \u001b[0mresponse\u001b[0m \u001b[0;34m=\u001b[0m \u001b[0mrequest_function\u001b[0m\u001b[0;34m(\u001b[0m\u001b[0;34m*\u001b[0m\u001b[0margs\u001b[0m\u001b[0;34m,\u001b[0m \u001b[0;34m**\u001b[0m\u001b[0mkwargs\u001b[0m\u001b[0;34m)\u001b[0m\u001b[0;34m\u001b[0m\u001b[0;34m\u001b[0m\u001b[0m\n\u001b[0m\u001b[1;32m     48\u001b[0m         \u001b[0mself\u001b[0m\u001b[0;34m.\u001b[0m\u001b[0mupdate\u001b[0m\u001b[0;34m(\u001b[0m\u001b[0mresponse\u001b[0m\u001b[0;34m.\u001b[0m\u001b[0mheaders\u001b[0m\u001b[0;34m)\u001b[0m\u001b[0;34m\u001b[0m\u001b[0;34m\u001b[0m\u001b[0m\n\u001b[1;32m     49\u001b[0m         \u001b[0;32mreturn\u001b[0m \u001b[0mresponse\u001b[0m\u001b[0;34m\u001b[0m\u001b[0;34m\u001b[0m\u001b[0m\n",
            "\u001b[0;32m/usr/local/lib/python3.10/dist-packages/prawcore/requestor.py\u001b[0m in \u001b[0;36mrequest\u001b[0;34m(self, timeout, *args, **kwargs)\u001b[0m\n\u001b[1;32m     66\u001b[0m         \u001b[0;34m\"\"\"Issue the HTTP request capturing any errors that may occur.\"\"\"\u001b[0m\u001b[0;34m\u001b[0m\u001b[0;34m\u001b[0m\u001b[0m\n\u001b[1;32m     67\u001b[0m         \u001b[0;32mtry\u001b[0m\u001b[0;34m:\u001b[0m\u001b[0;34m\u001b[0m\u001b[0;34m\u001b[0m\u001b[0m\n\u001b[0;32m---> 68\u001b[0;31m             \u001b[0;32mreturn\u001b[0m \u001b[0mself\u001b[0m\u001b[0;34m.\u001b[0m\u001b[0m_http\u001b[0m\u001b[0;34m.\u001b[0m\u001b[0mrequest\u001b[0m\u001b[0;34m(\u001b[0m\u001b[0;34m*\u001b[0m\u001b[0margs\u001b[0m\u001b[0;34m,\u001b[0m \u001b[0mtimeout\u001b[0m\u001b[0;34m=\u001b[0m\u001b[0mtimeout\u001b[0m \u001b[0;32mor\u001b[0m \u001b[0mself\u001b[0m\u001b[0;34m.\u001b[0m\u001b[0mtimeout\u001b[0m\u001b[0;34m,\u001b[0m \u001b[0;34m**\u001b[0m\u001b[0mkwargs\u001b[0m\u001b[0;34m)\u001b[0m\u001b[0;34m\u001b[0m\u001b[0;34m\u001b[0m\u001b[0m\n\u001b[0m\u001b[1;32m     69\u001b[0m         \u001b[0;32mexcept\u001b[0m \u001b[0mException\u001b[0m \u001b[0;32mas\u001b[0m \u001b[0mexc\u001b[0m\u001b[0;34m:\u001b[0m  \u001b[0;31m# noqa: BLE001\u001b[0m\u001b[0;34m\u001b[0m\u001b[0;34m\u001b[0m\u001b[0m\n\u001b[1;32m     70\u001b[0m             \u001b[0;32mraise\u001b[0m \u001b[0mRequestException\u001b[0m\u001b[0;34m(\u001b[0m\u001b[0mexc\u001b[0m\u001b[0;34m,\u001b[0m \u001b[0margs\u001b[0m\u001b[0;34m,\u001b[0m \u001b[0mkwargs\u001b[0m\u001b[0;34m)\u001b[0m \u001b[0;32mfrom\u001b[0m \u001b[0;32mNone\u001b[0m\u001b[0;34m\u001b[0m\u001b[0;34m\u001b[0m\u001b[0m\n",
            "\u001b[0;32m/usr/local/lib/python3.10/dist-packages/requests/sessions.py\u001b[0m in \u001b[0;36mrequest\u001b[0;34m(self, method, url, params, data, headers, cookies, files, auth, timeout, allow_redirects, proxies, hooks, stream, verify, cert, json)\u001b[0m\n\u001b[1;32m    587\u001b[0m         }\n\u001b[1;32m    588\u001b[0m         \u001b[0msend_kwargs\u001b[0m\u001b[0;34m.\u001b[0m\u001b[0mupdate\u001b[0m\u001b[0;34m(\u001b[0m\u001b[0msettings\u001b[0m\u001b[0;34m)\u001b[0m\u001b[0;34m\u001b[0m\u001b[0;34m\u001b[0m\u001b[0m\n\u001b[0;32m--> 589\u001b[0;31m         \u001b[0mresp\u001b[0m \u001b[0;34m=\u001b[0m \u001b[0mself\u001b[0m\u001b[0;34m.\u001b[0m\u001b[0msend\u001b[0m\u001b[0;34m(\u001b[0m\u001b[0mprep\u001b[0m\u001b[0;34m,\u001b[0m \u001b[0;34m**\u001b[0m\u001b[0msend_kwargs\u001b[0m\u001b[0;34m)\u001b[0m\u001b[0;34m\u001b[0m\u001b[0;34m\u001b[0m\u001b[0m\n\u001b[0m\u001b[1;32m    590\u001b[0m \u001b[0;34m\u001b[0m\u001b[0m\n\u001b[1;32m    591\u001b[0m         \u001b[0;32mreturn\u001b[0m \u001b[0mresp\u001b[0m\u001b[0;34m\u001b[0m\u001b[0;34m\u001b[0m\u001b[0m\n",
            "\u001b[0;32m/usr/local/lib/python3.10/dist-packages/requests/sessions.py\u001b[0m in \u001b[0;36msend\u001b[0;34m(self, request, **kwargs)\u001b[0m\n\u001b[1;32m    701\u001b[0m \u001b[0;34m\u001b[0m\u001b[0m\n\u001b[1;32m    702\u001b[0m         \u001b[0;31m# Send the request\u001b[0m\u001b[0;34m\u001b[0m\u001b[0;34m\u001b[0m\u001b[0m\n\u001b[0;32m--> 703\u001b[0;31m         \u001b[0mr\u001b[0m \u001b[0;34m=\u001b[0m \u001b[0madapter\u001b[0m\u001b[0;34m.\u001b[0m\u001b[0msend\u001b[0m\u001b[0;34m(\u001b[0m\u001b[0mrequest\u001b[0m\u001b[0;34m,\u001b[0m \u001b[0;34m**\u001b[0m\u001b[0mkwargs\u001b[0m\u001b[0;34m)\u001b[0m\u001b[0;34m\u001b[0m\u001b[0;34m\u001b[0m\u001b[0m\n\u001b[0m\u001b[1;32m    704\u001b[0m \u001b[0;34m\u001b[0m\u001b[0m\n\u001b[1;32m    705\u001b[0m         \u001b[0;31m# Total elapsed time of the request (approximately)\u001b[0m\u001b[0;34m\u001b[0m\u001b[0;34m\u001b[0m\u001b[0m\n",
            "\u001b[0;32m/usr/local/lib/python3.10/dist-packages/requests/adapters.py\u001b[0m in \u001b[0;36msend\u001b[0;34m(self, request, stream, timeout, verify, cert, proxies)\u001b[0m\n\u001b[1;32m    665\u001b[0m \u001b[0;34m\u001b[0m\u001b[0m\n\u001b[1;32m    666\u001b[0m         \u001b[0;32mtry\u001b[0m\u001b[0;34m:\u001b[0m\u001b[0;34m\u001b[0m\u001b[0;34m\u001b[0m\u001b[0m\n\u001b[0;32m--> 667\u001b[0;31m             resp = conn.urlopen(\n\u001b[0m\u001b[1;32m    668\u001b[0m                 \u001b[0mmethod\u001b[0m\u001b[0;34m=\u001b[0m\u001b[0mrequest\u001b[0m\u001b[0;34m.\u001b[0m\u001b[0mmethod\u001b[0m\u001b[0;34m,\u001b[0m\u001b[0;34m\u001b[0m\u001b[0;34m\u001b[0m\u001b[0m\n\u001b[1;32m    669\u001b[0m                 \u001b[0murl\u001b[0m\u001b[0;34m=\u001b[0m\u001b[0murl\u001b[0m\u001b[0;34m,\u001b[0m\u001b[0;34m\u001b[0m\u001b[0;34m\u001b[0m\u001b[0m\n",
            "\u001b[0;32m/usr/local/lib/python3.10/dist-packages/urllib3/connectionpool.py\u001b[0m in \u001b[0;36murlopen\u001b[0;34m(self, method, url, body, headers, retries, redirect, assert_same_host, timeout, pool_timeout, release_conn, chunked, body_pos, preload_content, decode_content, **response_kw)\u001b[0m\n\u001b[1;32m    787\u001b[0m \u001b[0;34m\u001b[0m\u001b[0m\n\u001b[1;32m    788\u001b[0m             \u001b[0;31m# Make the request on the HTTPConnection object\u001b[0m\u001b[0;34m\u001b[0m\u001b[0;34m\u001b[0m\u001b[0m\n\u001b[0;32m--> 789\u001b[0;31m             response = self._make_request(\n\u001b[0m\u001b[1;32m    790\u001b[0m                 \u001b[0mconn\u001b[0m\u001b[0;34m,\u001b[0m\u001b[0;34m\u001b[0m\u001b[0;34m\u001b[0m\u001b[0m\n\u001b[1;32m    791\u001b[0m                 \u001b[0mmethod\u001b[0m\u001b[0;34m,\u001b[0m\u001b[0;34m\u001b[0m\u001b[0;34m\u001b[0m\u001b[0m\n",
            "\u001b[0;32m/usr/local/lib/python3.10/dist-packages/urllib3/connectionpool.py\u001b[0m in \u001b[0;36m_make_request\u001b[0;34m(self, conn, method, url, body, headers, retries, timeout, chunked, response_conn, preload_content, decode_content, enforce_content_length)\u001b[0m\n\u001b[1;32m    534\u001b[0m         \u001b[0;31m# Receive the response from the server\u001b[0m\u001b[0;34m\u001b[0m\u001b[0;34m\u001b[0m\u001b[0m\n\u001b[1;32m    535\u001b[0m         \u001b[0;32mtry\u001b[0m\u001b[0;34m:\u001b[0m\u001b[0;34m\u001b[0m\u001b[0;34m\u001b[0m\u001b[0m\n\u001b[0;32m--> 536\u001b[0;31m             \u001b[0mresponse\u001b[0m \u001b[0;34m=\u001b[0m \u001b[0mconn\u001b[0m\u001b[0;34m.\u001b[0m\u001b[0mgetresponse\u001b[0m\u001b[0;34m(\u001b[0m\u001b[0;34m)\u001b[0m\u001b[0;34m\u001b[0m\u001b[0;34m\u001b[0m\u001b[0m\n\u001b[0m\u001b[1;32m    537\u001b[0m         \u001b[0;32mexcept\u001b[0m \u001b[0;34m(\u001b[0m\u001b[0mBaseSSLError\u001b[0m\u001b[0;34m,\u001b[0m \u001b[0mOSError\u001b[0m\u001b[0;34m)\u001b[0m \u001b[0;32mas\u001b[0m \u001b[0me\u001b[0m\u001b[0;34m:\u001b[0m\u001b[0;34m\u001b[0m\u001b[0;34m\u001b[0m\u001b[0m\n\u001b[1;32m    538\u001b[0m             \u001b[0mself\u001b[0m\u001b[0;34m.\u001b[0m\u001b[0m_raise_timeout\u001b[0m\u001b[0;34m(\u001b[0m\u001b[0merr\u001b[0m\u001b[0;34m=\u001b[0m\u001b[0me\u001b[0m\u001b[0;34m,\u001b[0m \u001b[0murl\u001b[0m\u001b[0;34m=\u001b[0m\u001b[0murl\u001b[0m\u001b[0;34m,\u001b[0m \u001b[0mtimeout_value\u001b[0m\u001b[0;34m=\u001b[0m\u001b[0mread_timeout\u001b[0m\u001b[0;34m)\u001b[0m\u001b[0;34m\u001b[0m\u001b[0;34m\u001b[0m\u001b[0m\n",
            "\u001b[0;32m/usr/local/lib/python3.10/dist-packages/urllib3/connection.py\u001b[0m in \u001b[0;36mgetresponse\u001b[0;34m(self)\u001b[0m\n\u001b[1;32m    505\u001b[0m \u001b[0;34m\u001b[0m\u001b[0m\n\u001b[1;32m    506\u001b[0m         \u001b[0;31m# Get the response from http.client.HTTPConnection\u001b[0m\u001b[0;34m\u001b[0m\u001b[0;34m\u001b[0m\u001b[0m\n\u001b[0;32m--> 507\u001b[0;31m         \u001b[0mhttplib_response\u001b[0m \u001b[0;34m=\u001b[0m \u001b[0msuper\u001b[0m\u001b[0;34m(\u001b[0m\u001b[0;34m)\u001b[0m\u001b[0;34m.\u001b[0m\u001b[0mgetresponse\u001b[0m\u001b[0;34m(\u001b[0m\u001b[0;34m)\u001b[0m\u001b[0;34m\u001b[0m\u001b[0;34m\u001b[0m\u001b[0m\n\u001b[0m\u001b[1;32m    508\u001b[0m \u001b[0;34m\u001b[0m\u001b[0m\n\u001b[1;32m    509\u001b[0m         \u001b[0;32mtry\u001b[0m\u001b[0;34m:\u001b[0m\u001b[0;34m\u001b[0m\u001b[0;34m\u001b[0m\u001b[0m\n",
            "\u001b[0;32m/usr/lib/python3.10/http/client.py\u001b[0m in \u001b[0;36mgetresponse\u001b[0;34m(self)\u001b[0m\n\u001b[1;32m   1373\u001b[0m         \u001b[0;32mtry\u001b[0m\u001b[0;34m:\u001b[0m\u001b[0;34m\u001b[0m\u001b[0;34m\u001b[0m\u001b[0m\n\u001b[1;32m   1374\u001b[0m             \u001b[0;32mtry\u001b[0m\u001b[0;34m:\u001b[0m\u001b[0;34m\u001b[0m\u001b[0;34m\u001b[0m\u001b[0m\n\u001b[0;32m-> 1375\u001b[0;31m                 \u001b[0mresponse\u001b[0m\u001b[0;34m.\u001b[0m\u001b[0mbegin\u001b[0m\u001b[0;34m(\u001b[0m\u001b[0;34m)\u001b[0m\u001b[0;34m\u001b[0m\u001b[0;34m\u001b[0m\u001b[0m\n\u001b[0m\u001b[1;32m   1376\u001b[0m             \u001b[0;32mexcept\u001b[0m \u001b[0mConnectionError\u001b[0m\u001b[0;34m:\u001b[0m\u001b[0;34m\u001b[0m\u001b[0;34m\u001b[0m\u001b[0m\n\u001b[1;32m   1377\u001b[0m                 \u001b[0mself\u001b[0m\u001b[0;34m.\u001b[0m\u001b[0mclose\u001b[0m\u001b[0;34m(\u001b[0m\u001b[0;34m)\u001b[0m\u001b[0;34m\u001b[0m\u001b[0;34m\u001b[0m\u001b[0m\n",
            "\u001b[0;32m/usr/lib/python3.10/http/client.py\u001b[0m in \u001b[0;36mbegin\u001b[0;34m(self)\u001b[0m\n\u001b[1;32m    316\u001b[0m         \u001b[0;31m# read until we get a non-100 response\u001b[0m\u001b[0;34m\u001b[0m\u001b[0;34m\u001b[0m\u001b[0m\n\u001b[1;32m    317\u001b[0m         \u001b[0;32mwhile\u001b[0m \u001b[0;32mTrue\u001b[0m\u001b[0;34m:\u001b[0m\u001b[0;34m\u001b[0m\u001b[0;34m\u001b[0m\u001b[0m\n\u001b[0;32m--> 318\u001b[0;31m             \u001b[0mversion\u001b[0m\u001b[0;34m,\u001b[0m \u001b[0mstatus\u001b[0m\u001b[0;34m,\u001b[0m \u001b[0mreason\u001b[0m \u001b[0;34m=\u001b[0m \u001b[0mself\u001b[0m\u001b[0;34m.\u001b[0m\u001b[0m_read_status\u001b[0m\u001b[0;34m(\u001b[0m\u001b[0;34m)\u001b[0m\u001b[0;34m\u001b[0m\u001b[0;34m\u001b[0m\u001b[0m\n\u001b[0m\u001b[1;32m    319\u001b[0m             \u001b[0;32mif\u001b[0m \u001b[0mstatus\u001b[0m \u001b[0;34m!=\u001b[0m \u001b[0mCONTINUE\u001b[0m\u001b[0;34m:\u001b[0m\u001b[0;34m\u001b[0m\u001b[0;34m\u001b[0m\u001b[0m\n\u001b[1;32m    320\u001b[0m                 \u001b[0;32mbreak\u001b[0m\u001b[0;34m\u001b[0m\u001b[0;34m\u001b[0m\u001b[0m\n",
            "\u001b[0;32m/usr/lib/python3.10/http/client.py\u001b[0m in \u001b[0;36m_read_status\u001b[0;34m(self)\u001b[0m\n\u001b[1;32m    277\u001b[0m \u001b[0;34m\u001b[0m\u001b[0m\n\u001b[1;32m    278\u001b[0m     \u001b[0;32mdef\u001b[0m \u001b[0m_read_status\u001b[0m\u001b[0;34m(\u001b[0m\u001b[0mself\u001b[0m\u001b[0;34m)\u001b[0m\u001b[0;34m:\u001b[0m\u001b[0;34m\u001b[0m\u001b[0;34m\u001b[0m\u001b[0m\n\u001b[0;32m--> 279\u001b[0;31m         \u001b[0mline\u001b[0m \u001b[0;34m=\u001b[0m \u001b[0mstr\u001b[0m\u001b[0;34m(\u001b[0m\u001b[0mself\u001b[0m\u001b[0;34m.\u001b[0m\u001b[0mfp\u001b[0m\u001b[0;34m.\u001b[0m\u001b[0mreadline\u001b[0m\u001b[0;34m(\u001b[0m\u001b[0m_MAXLINE\u001b[0m \u001b[0;34m+\u001b[0m \u001b[0;36m1\u001b[0m\u001b[0;34m)\u001b[0m\u001b[0;34m,\u001b[0m \u001b[0;34m\"iso-8859-1\"\u001b[0m\u001b[0;34m)\u001b[0m\u001b[0;34m\u001b[0m\u001b[0;34m\u001b[0m\u001b[0m\n\u001b[0m\u001b[1;32m    280\u001b[0m         \u001b[0;32mif\u001b[0m \u001b[0mlen\u001b[0m\u001b[0;34m(\u001b[0m\u001b[0mline\u001b[0m\u001b[0;34m)\u001b[0m \u001b[0;34m>\u001b[0m \u001b[0m_MAXLINE\u001b[0m\u001b[0;34m:\u001b[0m\u001b[0;34m\u001b[0m\u001b[0;34m\u001b[0m\u001b[0m\n\u001b[1;32m    281\u001b[0m             \u001b[0;32mraise\u001b[0m \u001b[0mLineTooLong\u001b[0m\u001b[0;34m(\u001b[0m\u001b[0;34m\"status line\"\u001b[0m\u001b[0;34m)\u001b[0m\u001b[0;34m\u001b[0m\u001b[0;34m\u001b[0m\u001b[0m\n",
            "\u001b[0;32m/usr/lib/python3.10/socket.py\u001b[0m in \u001b[0;36mreadinto\u001b[0;34m(self, b)\u001b[0m\n\u001b[1;32m    703\u001b[0m         \u001b[0;32mwhile\u001b[0m \u001b[0;32mTrue\u001b[0m\u001b[0;34m:\u001b[0m\u001b[0;34m\u001b[0m\u001b[0;34m\u001b[0m\u001b[0m\n\u001b[1;32m    704\u001b[0m             \u001b[0;32mtry\u001b[0m\u001b[0;34m:\u001b[0m\u001b[0;34m\u001b[0m\u001b[0;34m\u001b[0m\u001b[0m\n\u001b[0;32m--> 705\u001b[0;31m                 \u001b[0;32mreturn\u001b[0m \u001b[0mself\u001b[0m\u001b[0;34m.\u001b[0m\u001b[0m_sock\u001b[0m\u001b[0;34m.\u001b[0m\u001b[0mrecv_into\u001b[0m\u001b[0;34m(\u001b[0m\u001b[0mb\u001b[0m\u001b[0;34m)\u001b[0m\u001b[0;34m\u001b[0m\u001b[0;34m\u001b[0m\u001b[0m\n\u001b[0m\u001b[1;32m    706\u001b[0m             \u001b[0;32mexcept\u001b[0m \u001b[0mtimeout\u001b[0m\u001b[0;34m:\u001b[0m\u001b[0;34m\u001b[0m\u001b[0;34m\u001b[0m\u001b[0m\n\u001b[1;32m    707\u001b[0m                 \u001b[0mself\u001b[0m\u001b[0;34m.\u001b[0m\u001b[0m_timeout_occurred\u001b[0m \u001b[0;34m=\u001b[0m \u001b[0;32mTrue\u001b[0m\u001b[0;34m\u001b[0m\u001b[0;34m\u001b[0m\u001b[0m\n",
            "\u001b[0;32m/usr/lib/python3.10/ssl.py\u001b[0m in \u001b[0;36mrecv_into\u001b[0;34m(self, buffer, nbytes, flags)\u001b[0m\n\u001b[1;32m   1301\u001b[0m                   \u001b[0;34m\"non-zero flags not allowed in calls to recv_into() on %s\"\u001b[0m \u001b[0;34m%\u001b[0m\u001b[0;34m\u001b[0m\u001b[0;34m\u001b[0m\u001b[0m\n\u001b[1;32m   1302\u001b[0m                   self.__class__)\n\u001b[0;32m-> 1303\u001b[0;31m             \u001b[0;32mreturn\u001b[0m \u001b[0mself\u001b[0m\u001b[0;34m.\u001b[0m\u001b[0mread\u001b[0m\u001b[0;34m(\u001b[0m\u001b[0mnbytes\u001b[0m\u001b[0;34m,\u001b[0m \u001b[0mbuffer\u001b[0m\u001b[0;34m)\u001b[0m\u001b[0;34m\u001b[0m\u001b[0;34m\u001b[0m\u001b[0m\n\u001b[0m\u001b[1;32m   1304\u001b[0m         \u001b[0;32melse\u001b[0m\u001b[0;34m:\u001b[0m\u001b[0;34m\u001b[0m\u001b[0;34m\u001b[0m\u001b[0m\n\u001b[1;32m   1305\u001b[0m             \u001b[0;32mreturn\u001b[0m \u001b[0msuper\u001b[0m\u001b[0;34m(\u001b[0m\u001b[0;34m)\u001b[0m\u001b[0;34m.\u001b[0m\u001b[0mrecv_into\u001b[0m\u001b[0;34m(\u001b[0m\u001b[0mbuffer\u001b[0m\u001b[0;34m,\u001b[0m \u001b[0mnbytes\u001b[0m\u001b[0;34m,\u001b[0m \u001b[0mflags\u001b[0m\u001b[0;34m)\u001b[0m\u001b[0;34m\u001b[0m\u001b[0;34m\u001b[0m\u001b[0m\n",
            "\u001b[0;32m/usr/lib/python3.10/ssl.py\u001b[0m in \u001b[0;36mread\u001b[0;34m(self, len, buffer)\u001b[0m\n\u001b[1;32m   1157\u001b[0m         \u001b[0;32mtry\u001b[0m\u001b[0;34m:\u001b[0m\u001b[0;34m\u001b[0m\u001b[0;34m\u001b[0m\u001b[0m\n\u001b[1;32m   1158\u001b[0m             \u001b[0;32mif\u001b[0m \u001b[0mbuffer\u001b[0m \u001b[0;32mis\u001b[0m \u001b[0;32mnot\u001b[0m \u001b[0;32mNone\u001b[0m\u001b[0;34m:\u001b[0m\u001b[0;34m\u001b[0m\u001b[0;34m\u001b[0m\u001b[0m\n\u001b[0;32m-> 1159\u001b[0;31m                 \u001b[0;32mreturn\u001b[0m \u001b[0mself\u001b[0m\u001b[0;34m.\u001b[0m\u001b[0m_sslobj\u001b[0m\u001b[0;34m.\u001b[0m\u001b[0mread\u001b[0m\u001b[0;34m(\u001b[0m\u001b[0mlen\u001b[0m\u001b[0;34m,\u001b[0m \u001b[0mbuffer\u001b[0m\u001b[0;34m)\u001b[0m\u001b[0;34m\u001b[0m\u001b[0;34m\u001b[0m\u001b[0m\n\u001b[0m\u001b[1;32m   1160\u001b[0m             \u001b[0;32melse\u001b[0m\u001b[0;34m:\u001b[0m\u001b[0;34m\u001b[0m\u001b[0;34m\u001b[0m\u001b[0m\n\u001b[1;32m   1161\u001b[0m                 \u001b[0;32mreturn\u001b[0m \u001b[0mself\u001b[0m\u001b[0;34m.\u001b[0m\u001b[0m_sslobj\u001b[0m\u001b[0;34m.\u001b[0m\u001b[0mread\u001b[0m\u001b[0;34m(\u001b[0m\u001b[0mlen\u001b[0m\u001b[0;34m)\u001b[0m\u001b[0;34m\u001b[0m\u001b[0;34m\u001b[0m\u001b[0m\n",
            "\u001b[0;31mKeyboardInterrupt\u001b[0m: "
          ]
        }
      ]
    },
    {
      "cell_type": "code",
      "source": [
        "import praw\n",
        "import random\n",
        "import time\n",
        "from datetime import datetime, timedelta\n",
        "\n",
        "# Keep your exact TEAM_CHANTS dictionary here [unchanged]\n",
        "TEAM_CHANTS = {\n",
        "    \"Partizan\": {\n",
        "        \"colors\": \"🖤⚪\",\n",
        "        \"fan_group\": \"Grobari\",\n",
        "        \"chants\": [\n",
        "            (\n",
        "                \"\"\"Da volim crno-bele\n",
        "ponosno kažem svima\n",
        "volim to slavno ime i\n",
        "divim se samo njima\n",
        "Na svetu ništa veće\n",
        "ne može da postoji\n",
        "nego što je naša ljubav\n",
        "prema crno-beloj boji\n",
        "Ljubav prema klubu\n",
        "ne može da prestane\n",
        "dok živim klicaću njemu\n",
        "volim te Partizane!!\"\"\",\n",
        "                \"\"\"That I love black-n-whites\n",
        "I proudly say it to everyone\n",
        "I love that famous name\n",
        "and I only admire them.\n",
        "In the world,\n",
        "nothing bigger can exist,\n",
        "Than our love\n",
        "for black and white colour.\n",
        "Love for the club\n",
        "Can not ever stop,\n",
        "While I am alive\n",
        "I will shout to him:\n",
        "\"I Love you, Partizan\\\"\"\"\"\n",
        "            ),\n",
        "            (\n",
        "                \"\"\"Ti si ponos Beograda,\n",
        "Ti si ponos zemlje moje\n",
        "Ti si ponos Srbije,\n",
        "Crno-beliii!\"\"\",\n",
        "                \"\"\"You are the pride of Belgrade,\n",
        "You are the pride of my country!\n",
        "You are the pride of Serbia,\n",
        "Black-n-Whites!\"\"\"\n",
        "            ),\n",
        "            (\n",
        "                \"\"\"Partizane jedini,\n",
        "Mi za tebe zivimo,\n",
        "Samo tebe volimo,\n",
        "I tebi se divimo,\n",
        "a kad dodju nevolje,\n",
        "I kad dodje tuga,\n",
        "Uvek ce te voleti,\n",
        "GROBARI SA JUGA!!!\n",
        "Volim Partizan!\"\"\",\n",
        "                \"\"\"Partizan one-and-only\n",
        "We live for you,\n",
        "We only love you\n",
        "And we admire you.\n",
        "When the troubles come\n",
        "and when the sorrow comes\n",
        "Always will love you,\n",
        "Grobari from the SOUTH!\n",
        "I love Partizan!\"\"\"\n",
        "            )\n",
        "        ]\n",
        "    },\n",
        "    \"Crvena Zvezda\": {\n",
        "        \"colors\": \"🔴⚪\",\n",
        "        \"fan_group\": \"Delije\",\n",
        "        \"chants\": [\n",
        "            (\n",
        "                \"\"\"Za večnu slavu,\n",
        "za pobedu,\n",
        "za samo našu Zvezdu Crvenu,\n",
        "pesma nek grmi odjekuje,\n",
        "nepred Zvezdo,\n",
        "ludo volim te!\"\"\",\n",
        "                \"\"\"For eternal glory,\n",
        "For victory,\n",
        "For our Red Star alone,\n",
        "Let the song thunder and echo,\n",
        "Forward Red Star,\n",
        "I love you madly!\"\"\"\n",
        "            )\n",
        "        ]\n",
        "    },\n",
        "    \"Panathinaikos\": {\n",
        "        \"colors\": \"💚⚪\",\n",
        "        \"fan_group\": \"Gate 13\",\n",
        "        \"chants\": [\n",
        "            (\n",
        "                \"\"\"Voodoo-Voodoo,\n",
        "Voodoo-Voodoo kai prasini magia (oooooooo),\n",
        "to kipelo to ferame apo ti germania (pao ole)\"\"\",\n",
        "                \"\"\"Voodoo-Voodoo,\n",
        "Voodoo-Voodoo and green magic,\n",
        "The cup we brought from Germany\"\"\"\n",
        "            ),\n",
        "            (\n",
        "                \"\"\"Chorto magiko,\n",
        "dose mou ligo gia na pio,\n",
        "ton pao mou na onirefto,\n",
        "kai na fonakso ston theo,\n",
        "panatha mou se agapo,\n",
        "san iroini san skliro narkotiko,\n",
        "san to chasis to lsd,\n",
        "gia sena pao mastouroni oli i gi.\n",
        "\n",
        "Panatha mou se agapo,\n",
        "opou kai an paizeis tha se akoloutho,\n",
        "pao edo,\n",
        "pao ekei,\n",
        "opou kai an paizeis thamaste mazi\"\"\",\n",
        "                \"\"\"Magic leaf,\n",
        "Give me some to consume,\n",
        "To dream of my Pao,\n",
        "And shout to God,\n",
        "'My Panatha I love you,\n",
        "Like heroine like a strong drug,\n",
        "Like weed LSD,\n",
        "For you Panatha the whole globe is high.\n",
        "\n",
        "My Panatha I love you,\n",
        "Wherever you play I will follow,\n",
        "Pao here,\n",
        "Pao there,\n",
        "Wherever you play we would be together\"\"\"\n",
        "            ),\n",
        "            (\n",
        "                \"\"\"Sto Belegradi tha einai oraia,\n",
        "me to ogdoo parea\"\"\",\n",
        "                \"\"\"In Belgrade,\n",
        "It will be beautiful together with the eighth.\"\"\"\n",
        "            ),\n",
        "            (\n",
        "                \"\"\"Παναθηναϊκέ μου τρελέ,\n",
        "τρέλα μου πράσινη,\n",
        "για σένα ζω και αναπνέω,\n",
        "μόνο για σένα τραγουδώ!\"\"\",\n",
        "                \"\"\"My crazy Panathinaikos,\n",
        "My green madness,\n",
        "For you I live and breathe,\n",
        "Only for you I sing!\"\"\"\n",
        "            )\n",
        "        ]\n",
        "    },\n",
        "    \"Olympiacos\": {\n",
        "        \"colors\": \"🔴⚪\",\n",
        "        \"fan_group\": \"Gate 7\",\n",
        "        \"chants\": [\n",
        "            (\n",
        "                \"\"\"Θρύλε σ' αγαπώ παντού θα σ' ακολουθώ,\n",
        "στα εύκολα και στα δύσκολα μαζί σου θα βρεθώ.\n",
        "Είσαι η ζωή μου όλη, Ολυμπιακέ,\n",
        "και θα σε υπερασπίζομαι ως το τέλος της ζωής!\"\"\",\n",
        "                \"\"\"Legend I love you,\n",
        "Everywhere I'll follow you,\n",
        "In easy times and hard times I'll be with you.\n",
        "You are my whole life, Olympiacos,\n",
        "And I will defend you until the end of life!\"\"\"\n",
        "            )\n",
        "        ]\n",
        "    }\n",
        "}\n",
        "\n",
        "def create_reddit_instance():\n",
        "    return praw.Reddit(\n",
        "        client_id=\"FExpDe13al_W6thva_RTqA\",\n",
        "        client_secret=\"cmwqMmrQom1V9tqeoVyOejRIijeijQ\",\n",
        "        user_agent=\"Script by u/Euroleaguechantsbot\",\n",
        "        username=\"Euroleaguechantsbot\",\n",
        "        password=input(\"Enter bot password: \")\n",
        "    )\n",
        "\n",
        "def format_chant(team_name, chant):\n",
        "    \"\"\"Format the chant for posting with proper line breaks.\"\"\"\n",
        "    original, translation = chant\n",
        "    team_info = TEAM_CHANTS[team_name]\n",
        "\n",
        "    return f\"\"\"# {team_info['fan_group']} Victory Chant {team_info['colors']}\n",
        "\n",
        "## Original:\n",
        "{original}\n",
        "\n",
        "## English Translation:\n",
        "{translation}\n",
        "\n",
        "---\n",
        "^(I am a bot that celebrates Euroleague victories with traditional chants! #EveryGameMatters!|)\"\"\"\n",
        "\n",
        "def get_team_from_title(title):\n",
        "    \"\"\"Extract team name from post title with variation handling.\"\"\"\n",
        "    # Direct mapping of variations to correct team names\n",
        "    team_variations = {\n",
        "        \"Panathinaikos\": [\"Panathinaikos\", \"PAO\", \"Pao\", \"Panathinaikos BC\"],\n",
        "        \"Partizan\": [\"Partizan\", \"Partizan Mozzart Bet\", \"Partizan Belgrade\"],\n",
        "        \"Crvena Zvezda\": [\"Crvena Zvezda\", \"Red Star\", \"Zvezda\"],\n",
        "        \"Olympiacos\": [\"Olympiacos\", \"Olympiakos\", \"Olympiacos BC\"]\n",
        "    }\n",
        "\n",
        "    # First check for variations\n",
        "    for team, variations in team_variations.items():\n",
        "        if any(variant in title for variant in variations):\n",
        "            print(f\"Matched team {team} in title: {title}\")\n",
        "            return team\n",
        "\n",
        "    # Fallback to direct check\n",
        "    for team in TEAM_CHANTS.keys():\n",
        "        if team in title:\n",
        "            return team\n",
        "    return None\n",
        "\n",
        "def did_team_win(title, text, team_name):\n",
        "    \"\"\"Check if a specific team won by parsing the score from the markdown table.\"\"\"\n",
        "    # Get variations for the team name\n",
        "    team_variations = {\n",
        "        \"Panathinaikos\": [\"Panathinaikos\", \"PAO\", \"Pao\", \"Panathinaikos BC\"],\n",
        "        \"Partizan\": [\"Partizan\", \"Partizan Mozzart Bet\", \"Partizan Belgrade\"],\n",
        "        \"Crvena Zvezda\": [\"Crvena Zvezda\", \"Red Star\", \"Zvezda\"],\n",
        "        \"Olympiacos\": [\"Olympiacos\", \"Olympiakos\", \"Olympiacos BC\"]\n",
        "    }\n",
        "\n",
        "    # Check if any variation of the team name is in the title\n",
        "    if not any(variant in title for variant in team_variations.get(team_name, [team_name])):\n",
        "        return False\n",
        "\n",
        "    lines = text.split('\\n')\n",
        "    team_score = None\n",
        "    opponent_score = None\n",
        "\n",
        "    try:\n",
        "        for i, line in enumerate(lines):\n",
        "            if \"|TEAM|SCORE|\" in line:\n",
        "                print(f\"Found score table for {team_name}\")\n",
        "                score_lines = lines[i+2:i+4]\n",
        "\n",
        "                for line in score_lines:\n",
        "                    if not line.strip() or '|-' in line:\n",
        "                        continue\n",
        "\n",
        "                    parts = line.split('|')\n",
        "                    if len(parts) >= 3:\n",
        "                        # Check if any variation of the team name is in the line\n",
        "                        if any(variant in parts[1] for variant in team_variations.get(team_name, [team_name])):\n",
        "                            team_score = int(parts[2].strip())\n",
        "                            print(f\"Found {team_name} score: {team_score}\")\n",
        "                        else:\n",
        "                            try:\n",
        "                                opponent_score = int(parts[2].strip())\n",
        "                                print(f\"Found opponent score: {opponent_score}\")\n",
        "                            except ValueError:\n",
        "                                continue\n",
        "\n",
        "        if team_score is not None and opponent_score is not None:\n",
        "            print(f\"Final scores - {team_name}: {team_score}, Opponent: {opponent_score}\")\n",
        "            return team_score > opponent_score\n",
        "\n",
        "    except Exception as e:\n",
        "        print(f\"Error parsing scores: {e}\")\n",
        "\n",
        "    return False\n",
        "\n",
        "def check_historical_posts(reddit, days_back=2):\n",
        "    \"\"\"Check posts from the last 2 days for team victories.\"\"\"\n",
        "    subreddit = reddit.subreddit(\"Euroleague\")\n",
        "    cutoff_time = int((datetime.utcnow() - timedelta(days=days_back)).timestamp())\n",
        "\n",
        "    print(f\"\\nChecking posts from the last {days_back} days...\")\n",
        "\n",
        "    for submission in subreddit.new(limit=50):\n",
        "        try:\n",
        "            if submission.created_utc < cutoff_time:\n",
        "                break\n",
        "\n",
        "            if \"POST MATCH THREAD\" in submission.title.upper():\n",
        "                print(f\"\\nFound historical match thread: {submission.title}\")\n",
        "                team_name = get_team_from_title(submission.title)\n",
        "\n",
        "                if team_name:\n",
        "                    print(f\"Found team: {team_name}\")\n",
        "\n",
        "                    already_commented = any(comment.author == reddit.user.me()\n",
        "                                         for comment in submission.comments)\n",
        "\n",
        "                    if not already_commented and did_team_win(submission.title, submission.selftext, team_name):\n",
        "                        print(f\"Found {team_name} victory! Posting chant...\")\n",
        "                        chant = random.choice(TEAM_CHANTS[team_name][\"chants\"])\n",
        "                        comment = format_chant(team_name, chant)\n",
        "                        submission.reply(comment)\n",
        "                        print(\"Successfully posted chant!\")\n",
        "                        time.sleep(5)\n",
        "        except Exception as e:\n",
        "            print(f\"Error processing post: {e}\")\n",
        "            continue\n",
        "\n",
        "def run_bot():\n",
        "    print(\"Starting Euroleague Chants Bot...\")\n",
        "    reddit = create_reddit_instance()\n",
        "    subreddit = reddit.subreddit(\"Euroleague\")\n",
        "\n",
        "    print(f\"Successfully logged in as: {reddit.user.me()}\")\n",
        "\n",
        "    # First check historical posts\n",
        "    check_historical_posts(reddit, days_back=2)\n",
        "\n",
        "    print(\"\\nNow monitoring for new posts...\")\n",
        "    already_processed = set()\n",
        "\n",
        "    while True:\n",
        "        try:\n",
        "            for submission in subreddit.new(limit=10):\n",
        "                if submission.id in already_processed:\n",
        "                    continue\n",
        "\n",
        "                if \"POST MATCH THREAD\" in submission.title.upper():\n",
        "                    team_name = get_team_from_title(submission.title)\n",
        "\n",
        "                    if team_name:\n",
        "                        print(f\"\\nFound {team_name} match thread: {submission.title}\")\n",
        "\n",
        "                        already_commented = any(comment.author == reddit.user.me()\n",
        "                                             for comment in submission.comments)\n",
        "\n",
        "                        if not already_commented and did_team_win(submission.title, submission.selftext, team_name):\n",
        "                            print(f\"{team_name} won! Posting chant...\")\n",
        "                            chant = random.choice(TEAM_CHANTS[team_name][\"chants\"])\n",
        "                            comment = format_chant(team_name, chant)\n",
        "                            submission.reply(comment)\n",
        "                            print(\"Successfully posted chant!\")\n",
        "\n",
        "                    already_processed.add(submission.id)\n",
        "\n",
        "            print(\".\", end=\"\", flush=True)\n",
        "            time.sleep(60)\n",
        "\n",
        "        except Exception as e:\n",
        "            print(f\"\\nError occurred: {e}\")\n",
        "            print(\"Waiting 5 minutes before retrying...\")\n",
        "            time.sleep(300)\n",
        "\n",
        "if __name__ == \"__main__\":\n",
        "    run_bot()"
      ],
      "metadata": {
        "colab": {
          "base_uri": "https://localhost:8080/",
          "height": 1000
        },
        "id": "dv6JLDxRWQ_g",
        "outputId": "84fcd1e5-432c-4415-8319-4a4d664979d0"
      },
      "execution_count": 13,
      "outputs": [
        {
          "name": "stdout",
          "output_type": "stream",
          "text": [
            "Starting Euroleague Chants Bot...\n",
            "Enter bot password: Zzidane#10\n"
          ]
        },
        {
          "output_type": "stream",
          "name": "stderr",
          "text": [
            "WARNING:praw:It appears that you are using PRAW in an asynchronous environment.\n",
            "It is strongly recommended to use Async PRAW: https://asyncpraw.readthedocs.io.\n",
            "See https://praw.readthedocs.io/en/latest/getting_started/multiple_instances.html#discord-bots-and-asynchronous-environments for more info.\n",
            "\n",
            "WARNING:praw:It appears that you are using PRAW in an asynchronous environment.\n",
            "It is strongly recommended to use Async PRAW: https://asyncpraw.readthedocs.io.\n",
            "See https://praw.readthedocs.io/en/latest/getting_started/multiple_instances.html#discord-bots-and-asynchronous-environments for more info.\n",
            "\n"
          ]
        },
        {
          "output_type": "stream",
          "name": "stdout",
          "text": [
            "Successfully logged in as: Euroleaguechantsbot\n",
            "\n",
            "Checking posts from the last 2 days...\n"
          ]
        },
        {
          "output_type": "stream",
          "name": "stderr",
          "text": [
            "WARNING:praw:It appears that you are using PRAW in an asynchronous environment.\n",
            "It is strongly recommended to use Async PRAW: https://asyncpraw.readthedocs.io.\n",
            "See https://praw.readthedocs.io/en/latest/getting_started/multiple_instances.html#discord-bots-and-asynchronous-environments for more info.\n",
            "\n"
          ]
        },
        {
          "output_type": "stream",
          "name": "stdout",
          "text": [
            "\n",
            "Found historical match thread: POST MATCH THREAD: Virtus Bologna - Alba Berlin [EuroLeague Regular Season, Round 13]\n",
            "\n",
            "Found historical match thread: POST MATCH THREAD: Valencia - Hapoel Jerusalem [EuroCup Regular Season, Round 10]\n",
            "\n",
            "Found historical match thread: POST MATCH THREAD: Olimpia Milano - Crvena Zvezda [EuroLeague Regular Season, Round 13]\n",
            "Matched team Crvena Zvezda in title: POST MATCH THREAD: Olimpia Milano - Crvena Zvezda [EuroLeague Regular Season, Round 13]\n",
            "Found team: Crvena Zvezda\n"
          ]
        },
        {
          "output_type": "stream",
          "name": "stderr",
          "text": [
            "WARNING:praw:It appears that you are using PRAW in an asynchronous environment.\n",
            "It is strongly recommended to use Async PRAW: https://asyncpraw.readthedocs.io.\n",
            "See https://praw.readthedocs.io/en/latest/getting_started/multiple_instances.html#discord-bots-and-asynchronous-environments for more info.\n",
            "\n"
          ]
        },
        {
          "output_type": "stream",
          "name": "stdout",
          "text": [
            "Found score table for Crvena Zvezda\n",
            "Found opponent score: 101\n",
            "Found Crvena Zvezda score: 86\n",
            "Final scores - Crvena Zvezda: 86, Opponent: 101\n",
            "\n",
            "Found historical match thread: POST MATCH THREAD: JL Bourg - Hamburg Towers [EuroCup Regular Season, Round 10]\n",
            "\n",
            "Found historical match thread: POST MATCH THREAD: Buducnost - Besiktas [EuroCup Regular Season, Round 10]\n",
            "\n",
            "Found historical match thread: POST MATCH THREAD: Aris BC - Reyer Venezia [EuroCup Regular Season, Round 10]\n",
            "\n",
            "Found historical match thread: POST MATCH THREAD: AS Monaco - Olympiacos [EuroLeague Regular Season, Round 13]\n",
            "Matched team Olympiacos in title: POST MATCH THREAD: AS Monaco - Olympiacos [EuroLeague Regular Season, Round 13]\n",
            "Found team: Olympiacos\n"
          ]
        },
        {
          "output_type": "stream",
          "name": "stderr",
          "text": [
            "WARNING:praw:It appears that you are using PRAW in an asynchronous environment.\n",
            "It is strongly recommended to use Async PRAW: https://asyncpraw.readthedocs.io.\n",
            "See https://praw.readthedocs.io/en/latest/getting_started/multiple_instances.html#discord-bots-and-asynchronous-environments for more info.\n",
            "\n"
          ]
        },
        {
          "output_type": "stream",
          "name": "stdout",
          "text": [
            "\n",
            "Found historical match thread: POST MATCH THREAD: Hapoel Tel Aviv - Joventut Badalona [EuroCup Regular Season, Round 10]\n",
            "\n",
            "Found historical match thread: POST MATCH THREAD: Lietkabelis - Turk Telekom [EuroCup Regular Season, Round 10]\n",
            "\n",
            "Found historical match thread: POST MATCH THREAD: Bahcesehir - BC Wolves [EuroCup Regular Season, Round 10]\n",
            "\n",
            "Found historical match thread: POST MATCH THREAD: Partizan - Zalgiris [EuroLeague Regular Season, Round 13]\n",
            "Matched team Partizan in title: POST MATCH THREAD: Partizan - Zalgiris [EuroLeague Regular Season, Round 13]\n",
            "Found team: Partizan\n"
          ]
        },
        {
          "output_type": "stream",
          "name": "stderr",
          "text": [
            "WARNING:praw:It appears that you are using PRAW in an asynchronous environment.\n",
            "It is strongly recommended to use Async PRAW: https://asyncpraw.readthedocs.io.\n",
            "See https://praw.readthedocs.io/en/latest/getting_started/multiple_instances.html#discord-bots-and-asynchronous-environments for more info.\n",
            "\n"
          ]
        },
        {
          "output_type": "stream",
          "name": "stdout",
          "text": [
            "\n",
            "Found historical match thread: POST MATCH THREAD: Saski Baskonia - Fenerbahce [EuroLeague Regular Season, Round 13]\n",
            "\n",
            "Found historical match thread: POST MATCH THREAD: Panathinaikos - Barcelona [EuroLeague Regular Season, Round 13]\n",
            "Matched team Panathinaikos in title: POST MATCH THREAD: Panathinaikos - Barcelona [EuroLeague Regular Season, Round 13]\n",
            "Found team: Panathinaikos\n"
          ]
        },
        {
          "output_type": "stream",
          "name": "stderr",
          "text": [
            "WARNING:praw:It appears that you are using PRAW in an asynchronous environment.\n",
            "It is strongly recommended to use Async PRAW: https://asyncpraw.readthedocs.io.\n",
            "See https://praw.readthedocs.io/en/latest/getting_started/multiple_instances.html#discord-bots-and-asynchronous-environments for more info.\n",
            "\n"
          ]
        },
        {
          "output_type": "stream",
          "name": "stdout",
          "text": [
            "Found score table for Panathinaikos\n",
            "Found Panathinaikos score: 90\n",
            "Found opponent score: 89\n",
            "Final scores - Panathinaikos: 90, Opponent: 89\n",
            "Found Panathinaikos victory! Posting chant...\n",
            "Successfully posted chant!\n"
          ]
        },
        {
          "output_type": "stream",
          "name": "stderr",
          "text": [
            "WARNING:praw:It appears that you are using PRAW in an asynchronous environment.\n",
            "It is strongly recommended to use Async PRAW: https://asyncpraw.readthedocs.io.\n",
            "See https://praw.readthedocs.io/en/latest/getting_started/multiple_instances.html#discord-bots-and-asynchronous-environments for more info.\n",
            "\n"
          ]
        },
        {
          "output_type": "stream",
          "name": "stdout",
          "text": [
            "\n",
            "Found historical match thread: POST MATCH THREAD: Aquila Basket Trento - Gran Canaria [EuroCup Regular Season, Round 10]\n",
            "\n",
            "Found historical match thread: POST MATCH THREAD: Maccabi Tel Aviv - Paris Basketball [EuroLeague Regular Season, Round 13]\n",
            "\n",
            "Found historical match thread: POST MATCH THREAD: ASVEL - Real Madrid [EuroLeague Regular Season, Round 13]\n",
            "\n",
            "Found historical match thread: POST MATCH THREAD: ratiopharm Ulm - Trefl Sopot [EuroCup Regular Season, Round 10]\n",
            "\n",
            "Found historical match thread: POST MATCH THREAD: Cedevita Olimpija Ljubljana - Cluj-Napoca [EuroCup Regular Season, Round 10]\n",
            "\n",
            "Found historical match thread: POST MATCH THREAD: Anadolu Efes - Bayern Munich [EuroLeague Regular Season, Round 13]\n",
            "\n",
            "Now monitoring for new posts...\n"
          ]
        },
        {
          "output_type": "stream",
          "name": "stderr",
          "text": [
            "WARNING:praw:It appears that you are using PRAW in an asynchronous environment.\n",
            "It is strongly recommended to use Async PRAW: https://asyncpraw.readthedocs.io.\n",
            "See https://praw.readthedocs.io/en/latest/getting_started/multiple_instances.html#discord-bots-and-asynchronous-environments for more info.\n",
            "\n"
          ]
        },
        {
          "output_type": "stream",
          "name": "stdout",
          "text": [
            "Matched team Crvena Zvezda in title: POST MATCH THREAD: Olimpia Milano - Crvena Zvezda [EuroLeague Regular Season, Round 13]\n",
            "\n",
            "Found Crvena Zvezda match thread: POST MATCH THREAD: Olimpia Milano - Crvena Zvezda [EuroLeague Regular Season, Round 13]\n"
          ]
        },
        {
          "output_type": "stream",
          "name": "stderr",
          "text": [
            "WARNING:praw:It appears that you are using PRAW in an asynchronous environment.\n",
            "It is strongly recommended to use Async PRAW: https://asyncpraw.readthedocs.io.\n",
            "See https://praw.readthedocs.io/en/latest/getting_started/multiple_instances.html#discord-bots-and-asynchronous-environments for more info.\n",
            "\n"
          ]
        },
        {
          "output_type": "stream",
          "name": "stdout",
          "text": [
            "Found score table for Crvena Zvezda\n",
            "Found opponent score: 101\n",
            "Found Crvena Zvezda score: 86\n",
            "Final scores - Crvena Zvezda: 86, Opponent: 101\n",
            "Matched team Olympiacos in title: POST MATCH THREAD: AS Monaco - Olympiacos [EuroLeague Regular Season, Round 13]\n",
            "\n",
            "Found Olympiacos match thread: POST MATCH THREAD: AS Monaco - Olympiacos [EuroLeague Regular Season, Round 13]\n",
            "."
          ]
        },
        {
          "output_type": "stream",
          "name": "stderr",
          "text": [
            "WARNING:praw:It appears that you are using PRAW in an asynchronous environment.\n",
            "It is strongly recommended to use Async PRAW: https://asyncpraw.readthedocs.io.\n",
            "See https://praw.readthedocs.io/en/latest/getting_started/multiple_instances.html#discord-bots-and-asynchronous-environments for more info.\n",
            "\n"
          ]
        },
        {
          "output_type": "stream",
          "name": "stdout",
          "text": [
            "."
          ]
        },
        {
          "output_type": "stream",
          "name": "stderr",
          "text": [
            "WARNING:praw:It appears that you are using PRAW in an asynchronous environment.\n",
            "It is strongly recommended to use Async PRAW: https://asyncpraw.readthedocs.io.\n",
            "See https://praw.readthedocs.io/en/latest/getting_started/multiple_instances.html#discord-bots-and-asynchronous-environments for more info.\n",
            "\n"
          ]
        },
        {
          "output_type": "stream",
          "name": "stdout",
          "text": [
            "."
          ]
        },
        {
          "output_type": "stream",
          "name": "stderr",
          "text": [
            "WARNING:praw:It appears that you are using PRAW in an asynchronous environment.\n",
            "It is strongly recommended to use Async PRAW: https://asyncpraw.readthedocs.io.\n",
            "See https://praw.readthedocs.io/en/latest/getting_started/multiple_instances.html#discord-bots-and-asynchronous-environments for more info.\n",
            "\n"
          ]
        },
        {
          "output_type": "stream",
          "name": "stdout",
          "text": [
            "."
          ]
        },
        {
          "output_type": "stream",
          "name": "stderr",
          "text": [
            "WARNING:praw:It appears that you are using PRAW in an asynchronous environment.\n",
            "It is strongly recommended to use Async PRAW: https://asyncpraw.readthedocs.io.\n",
            "See https://praw.readthedocs.io/en/latest/getting_started/multiple_instances.html#discord-bots-and-asynchronous-environments for more info.\n",
            "\n"
          ]
        },
        {
          "output_type": "stream",
          "name": "stdout",
          "text": [
            "."
          ]
        },
        {
          "output_type": "stream",
          "name": "stderr",
          "text": [
            "WARNING:praw:It appears that you are using PRAW in an asynchronous environment.\n",
            "It is strongly recommended to use Async PRAW: https://asyncpraw.readthedocs.io.\n",
            "See https://praw.readthedocs.io/en/latest/getting_started/multiple_instances.html#discord-bots-and-asynchronous-environments for more info.\n",
            "\n"
          ]
        },
        {
          "output_type": "stream",
          "name": "stdout",
          "text": [
            "."
          ]
        },
        {
          "output_type": "stream",
          "name": "stderr",
          "text": [
            "WARNING:praw:It appears that you are using PRAW in an asynchronous environment.\n",
            "It is strongly recommended to use Async PRAW: https://asyncpraw.readthedocs.io.\n",
            "See https://praw.readthedocs.io/en/latest/getting_started/multiple_instances.html#discord-bots-and-asynchronous-environments for more info.\n",
            "\n"
          ]
        },
        {
          "output_type": "stream",
          "name": "stdout",
          "text": [
            "."
          ]
        },
        {
          "output_type": "stream",
          "name": "stderr",
          "text": [
            "WARNING:praw:It appears that you are using PRAW in an asynchronous environment.\n",
            "It is strongly recommended to use Async PRAW: https://asyncpraw.readthedocs.io.\n",
            "See https://praw.readthedocs.io/en/latest/getting_started/multiple_instances.html#discord-bots-and-asynchronous-environments for more info.\n",
            "\n"
          ]
        },
        {
          "output_type": "stream",
          "name": "stdout",
          "text": [
            "."
          ]
        },
        {
          "output_type": "stream",
          "name": "stderr",
          "text": [
            "WARNING:praw:It appears that you are using PRAW in an asynchronous environment.\n",
            "It is strongly recommended to use Async PRAW: https://asyncpraw.readthedocs.io.\n",
            "See https://praw.readthedocs.io/en/latest/getting_started/multiple_instances.html#discord-bots-and-asynchronous-environments for more info.\n",
            "\n"
          ]
        },
        {
          "output_type": "stream",
          "name": "stdout",
          "text": [
            "."
          ]
        },
        {
          "output_type": "error",
          "ename": "KeyboardInterrupt",
          "evalue": "",
          "traceback": [
            "\u001b[0;31m---------------------------------------------------------------------------\u001b[0m",
            "\u001b[0;31mKeyboardInterrupt\u001b[0m                         Traceback (most recent call last)",
            "\u001b[0;32m<ipython-input-13-178d0b312b19>\u001b[0m in \u001b[0;36m<cell line: 345>\u001b[0;34m()\u001b[0m\n\u001b[1;32m    344\u001b[0m \u001b[0;34m\u001b[0m\u001b[0m\n\u001b[1;32m    345\u001b[0m \u001b[0;32mif\u001b[0m \u001b[0m__name__\u001b[0m \u001b[0;34m==\u001b[0m \u001b[0;34m\"__main__\"\u001b[0m\u001b[0;34m:\u001b[0m\u001b[0;34m\u001b[0m\u001b[0;34m\u001b[0m\u001b[0m\n\u001b[0;32m--> 346\u001b[0;31m     \u001b[0mrun_bot\u001b[0m\u001b[0;34m(\u001b[0m\u001b[0;34m)\u001b[0m\u001b[0;34m\u001b[0m\u001b[0;34m\u001b[0m\u001b[0m\n\u001b[0m",
            "\u001b[0;32m<ipython-input-13-178d0b312b19>\u001b[0m in \u001b[0;36mrun_bot\u001b[0;34m()\u001b[0m\n\u001b[1;32m    336\u001b[0m \u001b[0;34m\u001b[0m\u001b[0m\n\u001b[1;32m    337\u001b[0m             \u001b[0mprint\u001b[0m\u001b[0;34m(\u001b[0m\u001b[0;34m\".\"\u001b[0m\u001b[0;34m,\u001b[0m \u001b[0mend\u001b[0m\u001b[0;34m=\u001b[0m\u001b[0;34m\"\"\u001b[0m\u001b[0;34m,\u001b[0m \u001b[0mflush\u001b[0m\u001b[0;34m=\u001b[0m\u001b[0;32mTrue\u001b[0m\u001b[0;34m)\u001b[0m\u001b[0;34m\u001b[0m\u001b[0;34m\u001b[0m\u001b[0m\n\u001b[0;32m--> 338\u001b[0;31m             \u001b[0mtime\u001b[0m\u001b[0;34m.\u001b[0m\u001b[0msleep\u001b[0m\u001b[0;34m(\u001b[0m\u001b[0;36m60\u001b[0m\u001b[0;34m)\u001b[0m\u001b[0;34m\u001b[0m\u001b[0;34m\u001b[0m\u001b[0m\n\u001b[0m\u001b[1;32m    339\u001b[0m \u001b[0;34m\u001b[0m\u001b[0m\n\u001b[1;32m    340\u001b[0m         \u001b[0;32mexcept\u001b[0m \u001b[0mException\u001b[0m \u001b[0;32mas\u001b[0m \u001b[0me\u001b[0m\u001b[0;34m:\u001b[0m\u001b[0;34m\u001b[0m\u001b[0;34m\u001b[0m\u001b[0m\n",
            "\u001b[0;31mKeyboardInterrupt\u001b[0m: "
          ]
        }
      ]
    }
  ]
}